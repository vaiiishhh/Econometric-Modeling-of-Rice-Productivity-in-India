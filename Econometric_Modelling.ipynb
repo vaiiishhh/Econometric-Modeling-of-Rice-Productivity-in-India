{
 "cells": [
  {
   "cell_type": "markdown",
   "metadata": {
    "editable": true,
    "id": "_QY06wrvXUxP",
    "jp-MarkdownHeadingCollapsed": true,
    "slideshow": {
     "slide_type": ""
    },
    "tags": []
   },
   "source": [
    "# **Imports and Setting Up**"
   ]
  },
  {
   "cell_type": "code",
   "execution_count": 5,
   "metadata": {
    "id": "uix022X9WP-4"
   },
   "outputs": [],
   "source": [
    "# Library Imports\n",
    "import numpy as np\n",
    "import pandas as pd\n",
    "import seaborn as sns\n",
    "import matplotlib.pyplot as plt\n",
    "from sklearn.impute import KNNImputer\n",
    "import statsmodels.formula.api as smf\n",
    "import statsmodels.api as sm\n",
    "from statsmodels.stats.outliers_influence import variance_inflation_factor\n",
    "from scipy.stats import t\n",
    "from statsmodels.stats.anova import anova_lm"
   ]
  },
  {
   "cell_type": "code",
   "execution_count": 6,
   "metadata": {
    "id": "Wi0li65TWZej"
   },
   "outputs": [],
   "source": [
    "# File Imports\n",
    "crops_data = pd.read_csv(\"https://raw.githubusercontent.com/vaiiishhh/Econometrics/refs/heads/main/ECO221_Project_2025_Final.csv\")\n",
    "rainfall_data = pd.read_csv(\"https://raw.githubusercontent.com/vaiiishhh/Econometrics/refs/heads/main/RF_DistrictWise_ECO221_2025.csv\")\n",
    "soil_data = pd.read_csv(\"https://raw.githubusercontent.com/vaiiishhh/Econometrics/refs/heads/main/Salinity_Alkalinity_ECO221_2025.csv\")"
   ]
  },
  {
   "cell_type": "code",
   "execution_count": 7,
   "metadata": {
    "id": "xxLJ5MteKLsV"
   },
   "outputs": [],
   "source": [
    "# Narrowing data to what concerns us\n",
    "rice_data = crops_data[crops_data[\"crop\"] == \"Rice\"]\n",
    "rice_states = rice_data[\"statename\"].unique()\n",
    "rice_rainfall_data = rainfall_data[rainfall_data[\"state\"].isin(rice_states)]"
   ]
  },
  {
   "cell_type": "code",
   "execution_count": 8,
   "metadata": {
    "id": "dY9NCdR2O5cx"
   },
   "outputs": [],
   "source": [
    "#@title Data Cleaning Function\n",
    "corrections = {\n",
    "        'Ahmedabad': 'Ahmadabad',\n",
    "        'Almorah': 'Almora',\n",
    "        'Amarawati': 'Amravati',\n",
    "        'Ananthapur': 'Anantapur',\n",
    "        'Allahabad': 'Prayagraj',\n",
    "        'Banaskantha': 'Banas Kantha',\n",
    "        'Bangalore': 'Bengaluru Urban',\n",
    "        'Bhatinda': 'Bathinda',\n",
    "        'Buland Shahar': 'Bulandshahr',\n",
    "        'Dangs': 'Dang',\n",
    "        'Bijapur / Vijayapura': 'Bijapur',\n",
    "        'Gulbarga / Kalaburagi': 'Gulbarga',\n",
    "        'Kodagu / Coorg': 'Kodagu',\n",
    "        'Mahendragarh / Narnaul': 'Mahendragarh',\n",
    "        'North Arcot / Vellore': 'Vellore',\n",
    "        'Santhal Paragana / Dumka': 'Santhal Paragana',\n",
    "        'Seoni / Shivani': 'Seoni',\n",
    "        'South Arcot / Cuddalore': 'Cuddalore',\n",
    "        'Vadodara / Baroda': 'Vadodara',\n",
    "        'Tiruchirapalli / Trichy': 'Tiruchirapalli',\n",
    "        'Roopnagar / Ropar': 'Ropar',\n",
    "        'Shahabad (now part of Bhojpur district)': 'Bhojpur',\n",
    "        'Gurgaon': 'Gurugram',\n",
    "        'Hissar': 'Hisar',\n",
    "        'Mysore': 'Mysuru',\n",
    "        'Faizabad': 'Ayodhya',\n",
    "        'Kanpur': 'Kanpur Nagar',\n",
    "        'Champaran': 'Purbi Champaran',\n",
    "        'Garhwal': 'Pauri Garhwal',\n",
    "        'Singhbhum': 'West Singhbhum',\n",
    "        'Mungair': 'Munger',\n",
    "        'Santhal Paragana': 'Dumka',\n",
    "        'Palamau': 'Palamu',\n",
    "        'Rae-Bareily': 'Rae Bareli',\n",
    "        'Pithorgarh': 'Pithoragarh',\n",
    "        'Lahul & Spiti': 'Lahaul and Spiti',\n",
    "        'Sabarkantha': 'Sabar Kantha',\n",
    "        'Swami Madhopur': 'Sawai Madhopur',\n",
    "        'Ropar': 'Rupnagar',\n",
    "        'Ferozpur': 'Firozpur',\n",
    "        'Ramananthapuram': 'Ramanathapuram',\n",
    "        'Thirunelveli': 'Tirunelveli',\n",
    "        'Kanyakumari': 'Kanniyakumari',\n",
    "        'Gulbarga': 'Kalaburagi',\n",
    "        'Belgaum': 'Belagavi',\n",
    "        'Bellary': 'Ballari',\n",
    "        'Tumkur': 'Tumakuru',\n",
    "        'S.P.S. Nellore': 'Nellore',\n",
    "        'Kadapa YSR': 'YSR Kadapa',\n",
    "        'Nellore': 'Spsr Nellore',\n",
    "        'YSR Kadapa': 'Y.S.R.',\n",
    "        'Tiruchirapalli': 'Tiruchirappalli',\n",
    "        'Firozpur': 'Ferozepur',\n",
    "        'Lahul & Spiti': 'Lahul And Spiti',\n",
    "        'Lahul &amp; Spiti': 'Lahul And Spiti',\n",
    "        \"Visakhapatnam\": 'Visakhapatanam',\n",
    "        'Warangal Rural': \"Warangal\",\n",
    "        \"Warangal Urban\": \"Warangal\",\n",
    "        \"SPSR Nellore\": \"Spsr Nellore\",\n",
    "        \"Firozepur\": \"Ferozepur\"}\n",
    "\n",
    "def standardize_districts(rice_data, rainfall_data_yearly, rainfall_data_seasonal):\n",
    "  rice_df = rice_data.copy()\n",
    "  rainfall_df = rainfall_data_yearly.copy()\n",
    "  rainfall_df_kharif = rainfall_data_seasonal.copy()\n",
    "  for old_name, new_name in corrections.items():\n",
    "      rice_df.loc[rice_df['districtname'] == old_name, 'districtname'] = new_name\n",
    "  for old_name, new_name in corrections.items():\n",
    "      rainfall_df.loc[rainfall_df['district'] == old_name, 'district'] = new_name\n",
    "  for old_name, new_name in corrections.items():\n",
    "      rainfall_df_kharif.loc[rainfall_df_kharif['district'] == old_name, 'district'] = new_name\n",
    "  return rice_df, rainfall_df, rainfall_df_kharif"
   ]
  },
  {
   "cell_type": "markdown",
   "metadata": {
    "id": "mIl75uB4it0r",
    "jp-MarkdownHeadingCollapsed": true
   },
   "source": [
    "# **Merging Crops Data with Rainfall Data**"
   ]
  },
  {
   "cell_type": "code",
   "execution_count": 9,
   "metadata": {
    "id": "uw6zCN6ojotk"
   },
   "outputs": [],
   "source": [
    "# Task 1\n",
    "\n",
    "# 1. Taking both yearly and seasonal rainfall per district\n",
    "rice_rainfall_data_yearly = rice_rainfall_data.groupby('district', as_index=False)['rf'].mean()\n",
    "rice_rainfall_data_kharif = rice_rainfall_data[rice_rainfall_data[\"monthcode\"].isin([201706, 201707, 201708, 201709, 201710])].groupby('district', as_index=False)['rf'].mean()\n",
    "\n",
    "# 2. Streamlining district names\n",
    "rice_data, rice_rainfall_data_yearly, rice_rainfall_data_kharif = standardize_districts(rice_data, rice_rainfall_data_yearly, rice_rainfall_data_kharif)\n",
    "rice_districts = rice_districts = (rice_data['districtname'].unique())\n",
    "\n",
    "# # # 3. Merge the rainfall columns to rice_data district wise\n",
    "rice_data = pd.merge(rice_data, rice_rainfall_data_yearly, left_on='districtname', right_on='district', how='left')\n",
    "rice_data = rice_data.rename(columns = {\"rf\" : \"rf_yearly\"})\n",
    "rice_data = pd.merge(rice_data, rice_rainfall_data_kharif, left_on='districtname', right_on='district', how='left')\n",
    "rice_data = rice_data.rename(columns = {\"rf\" : \"rf_seasonal\"})\n",
    "\n",
    "# # 4. Droping/renaming the extra columns that were added during the merges\n",
    "rice_data = rice_data.drop(columns=['district_x', 'district_y'])"
   ]
  },
  {
   "cell_type": "markdown",
   "metadata": {
    "id": "tHuEFwtai1h7",
    "jp-MarkdownHeadingCollapsed": true
   },
   "source": [
    "# **Merging with Salinity-Alkanity Data**"
   ]
  },
  {
   "cell_type": "code",
   "execution_count": 10,
   "metadata": {
    "id": "-PAJMlMqlbW0"
   },
   "outputs": [],
   "source": [
    "# Task 2\n",
    "\n",
    "# 1. Streamlining district names\n",
    "for old_name, new_name in corrections.items():\n",
    "      soil_data.loc[soil_data['District Name'] == old_name, 'District Name'] = new_name\n",
    "\n",
    "# 2. Aggregating data for Warangal\n",
    "warangal_data = soil_data[soil_data['District Name'] == 'Warangal'].sum()\n",
    "warangal_data['District Name'] = 'Warangal'\n",
    "soil_data = soil_data[soil_data['District Name'] != 'Warangal']\n",
    "soil_data = pd.concat([soil_data, pd.DataFrame(warangal_data).T], ignore_index=True)\n",
    "\n",
    "# 3. Merge into rice_data district wise\n",
    "rice_data = pd.merge(rice_data, soil_data, left_on='districtname', right_on='District Name', how='left')\n",
    "\n",
    "# 4. Droping/renaming the extra columns that were added during the merges\n",
    "rice_data = rice_data.drop(columns=['District Name'])\n",
    "rice_data = rice_data.rename(columns= {\"Average Salinity/Alkalinity (Percentage)\": \"salinity_alkalinity_index\"})\n",
    "\n",
    "# 5. Salinity_alkanity was read a string\n",
    "rice_data['salinity_alkalinity_index'] = rice_data['salinity_alkalinity_index'].astype(float)"
   ]
  },
  {
   "cell_type": "markdown",
   "metadata": {
    "id": "z9vBxHvkjCie",
    "jp-MarkdownHeadingCollapsed": true
   },
   "source": [
    "# **1. Summary Statistics**"
   ]
  },
  {
   "cell_type": "markdown",
   "metadata": {
    "id": "tN2cyA9cBBIB"
   },
   "source": [
    "### 1.1 Identifying and Dealing with Missing Values\n",
    "\n",
    "Agricultural production variables had 26 missing entries each (approximately 9.8% of the dataset):\n",
    "\n",
    "\n",
    "\n",
    "*   area1000hectares\n",
    "*   production1000tonnes\n",
    "*   irrigatedarea1000hectares\n",
    "\n",
    "Rainfall variables had 3 missing entries each (1.1% of the dataset):\n",
    "\n",
    "* rf_yearly\n",
    "* rf_seasonal\n",
    "\n",
    "Salinity_index variables had 1 missing entry:\n",
    "\n",
    "Implemented appropriate imputation strategies:\n",
    "\n",
    "* State-wise average imputation for agricultural variables, which preserves regional production patterns\n",
    "\n",
    "* K-nearest neighbors imputation (n_neighbors=3) for rainfall data, which better accounts for spatial patterns than simple averages\n",
    "\n",
    "The imputation process was completed successfully, with verification showing zero missing values remaining across all variables."
   ]
  },
  {
   "cell_type": "code",
   "execution_count": 11,
   "metadata": {
    "colab": {
     "base_uri": "https://localhost:8080/",
     "height": 554
    },
    "id": "5e8dVPLS6Itq",
    "outputId": "0100c31e-4aad-44cc-8022-f750923dbec0"
   },
   "outputs": [
    {
     "data": {
      "text/plain": [
       "crop                           0\n",
       "area1000hectares              26\n",
       "production1000tonnes          26\n",
       "irrigatedarea1000hectares     26\n",
       "districtcode                   0\n",
       "year                           0\n",
       "statecode                      0\n",
       "statename                      0\n",
       "nitrogenconsumptiontonnes      0\n",
       "phosphateconsumptiontonnes     0\n",
       "potashconsumptiontonnes        0\n",
       "districtname                   0\n",
       "rf_yearly                      4\n",
       "rf_seasonal                    4\n",
       "salinity_alkalinity_index      1\n",
       "dtype: int64"
      ]
     },
     "execution_count": 11,
     "metadata": {},
     "output_type": "execute_result"
    }
   ],
   "source": [
    "missing_entries = rice_data.isnull().sum()\n",
    "missing_entries"
   ]
  },
  {
   "cell_type": "code",
   "execution_count": 12,
   "metadata": {
    "colab": {
     "base_uri": "https://localhost:8080/",
     "height": 554
    },
    "id": "7qJVy9Mly-ok",
    "outputId": "253c4032-2cfa-45e1-cd34-79329ec93daf"
   },
   "outputs": [
    {
     "data": {
      "text/plain": [
       "crop                          0\n",
       "area1000hectares              0\n",
       "production1000tonnes          0\n",
       "irrigatedarea1000hectares     0\n",
       "districtcode                  0\n",
       "year                          0\n",
       "statecode                     0\n",
       "statename                     0\n",
       "nitrogenconsumptiontonnes     0\n",
       "phosphateconsumptiontonnes    0\n",
       "potashconsumptiontonnes       0\n",
       "districtname                  0\n",
       "rf_yearly                     0\n",
       "rf_seasonal                   0\n",
       "salinity_alkalinity_index     0\n",
       "dtype: int64"
      ]
     },
     "execution_count": 12,
     "metadata": {},
     "output_type": "execute_result"
    }
   ],
   "source": [
    "# Using state-wise avg for filling null values in area and production\n",
    "for col in ['area1000hectares', 'production1000tonnes', 'irrigatedarea1000hectares', 'salinity_alkalinity_index']:\n",
    "    rice_data[col] = rice_data.groupby('statename')[col].transform(lambda x: x.fillna(x.mean()))\n",
    "\n",
    "# Using k-nearest neighbur for filling in missing rainfall data\n",
    "imputer = KNNImputer(n_neighbors=3)\n",
    "rainfall_cols = ['rf_yearly', 'rf_seasonal']\n",
    "rice_data[rainfall_cols] = imputer.fit_transform(rice_data[rainfall_cols])\n",
    "\n",
    "missing_entries = rice_data.isnull().sum()\n",
    "missing_entries"
   ]
  },
  {
   "cell_type": "markdown",
   "metadata": {
    "id": "6TJCDmzSBSer"
   },
   "source": [
    "### 1.2 Identifying and dealing with values == 0 for non-environmental variables\n",
    "\n",
    "* 42 districts (15.8% of observations) reported zero irrigated area\n",
    "* All other key numerical variables had no zero values\n",
    "\n",
    "This required special handling since:\n",
    "* Zero irrigated area likely represents rainfed farming systems\n",
    "* Log transformation in Cobb-Douglas function cannot handle zeros\n",
    "\n",
    "Added 1 to all irrigated area values to enable logarithmic transformation"
   ]
  },
  {
   "cell_type": "code",
   "execution_count": 13,
   "metadata": {
    "colab": {
     "base_uri": "https://localhost:8080/"
    },
    "id": "2jMLn5cyrbxB",
    "outputId": "43af1f39-9d3e-4353-8db2-3d704b5507dc"
   },
   "outputs": [
    {
     "name": "stdout",
     "output_type": "stream",
     "text": [
      "\n",
      "Count of zero values in key variables:\n",
      "area1000hectares               0\n",
      "production1000tonnes           0\n",
      "irrigatedarea1000hectares     42\n",
      "nitrogenconsumptiontonnes      0\n",
      "phosphateconsumptiontonnes     0\n",
      "potashconsumptiontonnes        0\n",
      "dtype: int64\n"
     ]
    }
   ],
   "source": [
    "zero_counts = {}\n",
    "for col in ['area1000hectares', 'production1000tonnes', 'irrigatedarea1000hectares', 'nitrogenconsumptiontonnes', 'phosphateconsumptiontonnes', 'potashconsumptiontonnes', \"unirrigatedarea1000hectares\"]:\n",
    "    if col in rice_data.columns:\n",
    "        zero_counts[col] = (rice_data[col] == 0.0).sum()\n",
    "\n",
    "print(\"\\nCount of zero values in key variables:\")\n",
    "print(pd.Series(zero_counts))"
   ]
  },
  {
   "cell_type": "code",
   "execution_count": 14,
   "metadata": {
    "id": "V-eLoS6B71u5"
   },
   "outputs": [],
   "source": [
    "rice_data['irrigatedarea1000hectares'] = (rice_data['irrigatedarea1000hectares']+1)"
   ]
  },
  {
   "cell_type": "markdown",
   "metadata": {
    "id": "DaO1srQLKG_8"
   },
   "source": [
    "### 1.3 Ensuring Irrigated Area is capped at Total Cropped Area\n",
    "\n",
    "* 107 districts (40.2% of observations) had reported irrigated area exceeding total cropped area\n",
    "\n",
    "* This logical inconsistency was corrected by capping irrigated area at (total area - 1)\n",
    "\n",
    "* After correction, no instances of irrigated area exceeding total area remain"
   ]
  },
  {
   "cell_type": "code",
   "execution_count": 15,
   "metadata": {
    "colab": {
     "base_uri": "https://localhost:8080/"
    },
    "id": "uhjK5b7uHIcA",
    "outputId": "0fce1b4b-389e-42ff-bb80-a5be56177d67"
   },
   "outputs": [
    {
     "name": "stdout",
     "output_type": "stream",
     "text": [
      "107\n",
      "0\n"
     ]
    }
   ],
   "source": [
    "count = 0;\n",
    "for index, row in rice_data.iterrows():\n",
    "  if row['irrigatedarea1000hectares'] > row['area1000hectares']:\n",
    "    count += 1\n",
    "print(count)\n",
    "\n",
    "for index, row in rice_data.iterrows():\n",
    "  if row['irrigatedarea1000hectares'] > row['area1000hectares']:\n",
    "    rice_data.loc[index, 'irrigatedarea1000hectares'] = (row['area1000hectares'])\n",
    "\n",
    "count = 0;\n",
    "for index, row in rice_data.iterrows():\n",
    "  if row['irrigatedarea1000hectares'] > row['area1000hectares']:\n",
    "    count += 1\n",
    "print(count)"
   ]
  },
  {
   "cell_type": "markdown",
   "metadata": {
    "id": "NDEDkqcvCPQT"
   },
   "source": [
    "### 1.4 Adding Unrrigated Area col in rice_data\n",
    "nirrigatedarea1000hectares= area1000hectares - irrigatedarea1000hectares\n",
    "\n",
    "\n"
   ]
  },
  {
   "cell_type": "code",
   "execution_count": 16,
   "metadata": {
    "id": "HUSgJVhUkL5P"
   },
   "outputs": [],
   "source": [
    "rice_data[\"unirrigatedarea1000hectares\"] = rice_data[\"area1000hectares\"] - rice_data[\"irrigatedarea1000hectares\"] + 1"
   ]
  },
  {
   "cell_type": "code",
   "execution_count": 17,
   "metadata": {
    "colab": {
     "base_uri": "https://localhost:8080/"
    },
    "id": "TM0oK65vuBbm",
    "outputId": "d829bb49-08c0-4259-8283-c8702903db14"
   },
   "outputs": [
    {
     "name": "stdout",
     "output_type": "stream",
     "text": [
      "\n",
      "Count of zero values in key variables:\n",
      "area1000hectares               0\n",
      "production1000tonnes           0\n",
      "irrigatedarea1000hectares      0\n",
      "nitrogenconsumptiontonnes      0\n",
      "phosphateconsumptiontonnes     0\n",
      "potashconsumptiontonnes        0\n",
      "unirrigatedarea1000hectares    0\n",
      "dtype: int64\n"
     ]
    }
   ],
   "source": [
    "zero_counts = {}\n",
    "for col in ['area1000hectares', 'production1000tonnes', 'irrigatedarea1000hectares', 'nitrogenconsumptiontonnes', 'phosphateconsumptiontonnes', 'potashconsumptiontonnes', \"unirrigatedarea1000hectares\"]:\n",
    "    if col in rice_data.columns:\n",
    "        zero_counts[col] = (rice_data[col] == 0.0).sum()\n",
    "\n",
    "print(\"\\nCount of zero values in key variables:\")\n",
    "print(pd.Series(zero_counts))"
   ]
  },
  {
   "cell_type": "markdown",
   "metadata": {
    "id": "dWLsFCCiDaLP"
   },
   "source": [
    "### 1.5 Summary of numeric data\n",
    "\n",
    "- **Area & Production**\n",
    "  - The average district cultivates **126.7 thousand hectares** of rice, producing **343.8 thousand tonnes**.\n",
    "  - There is **very high variability** (area std dev: 151.7; production std dev: 438.6).\n",
    "  - Districts range from as small as **0.01 thousand hectares** to as large as **959 thousand hectares**.\n",
    "  - Production ranges from **0.02 to 2726.6 thousand tonnes**, indicating a wide disparity in district productivity.\n",
    "\n",
    "- **Irrigation & Unirrigated Area**\n",
    "  - Mean irrigated area is **78.9 thousand hectares**, ranging from **0.01** to **641 thousand hectares**.\n",
    "  - The large spread (std dev: 111.4) and low minimum suggest many districts rely mainly on rainfed agriculture, while a few are highly irrigated.\n",
    "  - Mean unirrigated area is **47.8 thousand hectares** (std dev: 99.2), with a maximum of **627.3** and minimum of **0**, confirming the diversity in irrigation coverage.\n",
    "\n",
    "- **Fertilizer Use**\n",
    "  - **Nitrogen**: Mean 54,250 tonnes (std dev: 45,474; max: 294,303).\n",
    "  - **Phosphate**: Mean 21,348 tonnes (std dev: 16,680; max: 93,574).\n",
    "  - **Potash**: Mean 7,635 tonnes (std dev: 9,521; max: 74,158).\n",
    "  - These large ranges reflect substantial differences in input intensity across districts.\n",
    "\n",
    "- **Rainfall**\n",
    "  - **Annual rainfall** averages **73.5 mm** (std dev: 52.3; range: 0.25–376.7 mm).\n",
    "  - **Seasonal rainfall** is higher, with a mean of **153 mm** (std dev: 114.8; max: 873.9 mm).\n",
    "  - This highlights the diverse climatic conditions across rice-growing districts.\n",
    "\n",
    "- **Soil Salinity/Alkalinity**\n",
    "  - The index averages **11.7** (std dev: 20.4), with some districts near zero and others as high as **96.6**, indicating serious soil quality issues in certain areas.\n"
   ]
  },
  {
   "cell_type": "code",
   "execution_count": 18,
   "metadata": {
    "colab": {
     "base_uri": "https://localhost:8080/",
     "height": 457
    },
    "id": "6y7C9FG0njJ6",
    "outputId": "ae0bec27-0aa7-4608-cbff-dccfbdd5e183"
   },
   "outputs": [
    {
     "data": {
      "text/html": [
       "<div>\n",
       "<style scoped>\n",
       "    .dataframe tbody tr th:only-of-type {\n",
       "        vertical-align: middle;\n",
       "    }\n",
       "\n",
       "    .dataframe tbody tr th {\n",
       "        vertical-align: top;\n",
       "    }\n",
       "\n",
       "    .dataframe thead th {\n",
       "        text-align: right;\n",
       "    }\n",
       "</style>\n",
       "<table border=\"1\" class=\"dataframe\">\n",
       "  <thead>\n",
       "    <tr style=\"text-align: right;\">\n",
       "      <th></th>\n",
       "      <th>count</th>\n",
       "      <th>mean</th>\n",
       "      <th>std</th>\n",
       "      <th>min</th>\n",
       "      <th>25%</th>\n",
       "      <th>50%</th>\n",
       "      <th>75%</th>\n",
       "      <th>max</th>\n",
       "    </tr>\n",
       "  </thead>\n",
       "  <tbody>\n",
       "    <tr>\n",
       "      <th>area1000hectares</th>\n",
       "      <td>266.0</td>\n",
       "      <td>126.698115</td>\n",
       "      <td>151.695884</td>\n",
       "      <td>0.01</td>\n",
       "      <td>14.665384</td>\n",
       "      <td>79.472221</td>\n",
       "      <td>181.735003</td>\n",
       "      <td>959.010010</td>\n",
       "    </tr>\n",
       "    <tr>\n",
       "      <th>production1000tonnes</th>\n",
       "      <td>266.0</td>\n",
       "      <td>343.883533</td>\n",
       "      <td>438.613264</td>\n",
       "      <td>0.02</td>\n",
       "      <td>34.231732</td>\n",
       "      <td>191.240002</td>\n",
       "      <td>474.795005</td>\n",
       "      <td>2726.580100</td>\n",
       "    </tr>\n",
       "    <tr>\n",
       "      <th>irrigatedarea1000hectares</th>\n",
       "      <td>266.0</td>\n",
       "      <td>78.869359</td>\n",
       "      <td>111.449105</td>\n",
       "      <td>0.01</td>\n",
       "      <td>3.075000</td>\n",
       "      <td>33.003999</td>\n",
       "      <td>111.300500</td>\n",
       "      <td>641.060000</td>\n",
       "    </tr>\n",
       "    <tr>\n",
       "      <th>districtcode</th>\n",
       "      <td>266.0</td>\n",
       "      <td>220.398496</td>\n",
       "      <td>241.947646</td>\n",
       "      <td>1.00</td>\n",
       "      <td>69.750000</td>\n",
       "      <td>144.500000</td>\n",
       "      <td>220.750000</td>\n",
       "      <td>917.000000</td>\n",
       "    </tr>\n",
       "    <tr>\n",
       "      <th>year</th>\n",
       "      <td>266.0</td>\n",
       "      <td>2017.000000</td>\n",
       "      <td>0.000000</td>\n",
       "      <td>2017.00</td>\n",
       "      <td>2017.000000</td>\n",
       "      <td>2017.000000</td>\n",
       "      <td>2017.000000</td>\n",
       "      <td>2017.000000</td>\n",
       "    </tr>\n",
       "    <tr>\n",
       "      <th>statecode</th>\n",
       "      <td>266.0</td>\n",
       "      <td>9.545113</td>\n",
       "      <td>5.158601</td>\n",
       "      <td>1.00</td>\n",
       "      <td>6.000000</td>\n",
       "      <td>10.000000</td>\n",
       "      <td>12.000000</td>\n",
       "      <td>20.000000</td>\n",
       "    </tr>\n",
       "    <tr>\n",
       "      <th>nitrogenconsumptiontonnes</th>\n",
       "      <td>266.0</td>\n",
       "      <td>54249.699248</td>\n",
       "      <td>45474.228372</td>\n",
       "      <td>75.00</td>\n",
       "      <td>21172.500000</td>\n",
       "      <td>44017.000000</td>\n",
       "      <td>77084.500000</td>\n",
       "      <td>294303.000000</td>\n",
       "    </tr>\n",
       "    <tr>\n",
       "      <th>phosphateconsumptiontonnes</th>\n",
       "      <td>266.0</td>\n",
       "      <td>21347.951128</td>\n",
       "      <td>16680.325268</td>\n",
       "      <td>33.00</td>\n",
       "      <td>8920.500000</td>\n",
       "      <td>18456.000000</td>\n",
       "      <td>30641.500000</td>\n",
       "      <td>93574.000000</td>\n",
       "    </tr>\n",
       "    <tr>\n",
       "      <th>potashconsumptiontonnes</th>\n",
       "      <td>266.0</td>\n",
       "      <td>7634.819549</td>\n",
       "      <td>9520.873518</td>\n",
       "      <td>2.00</td>\n",
       "      <td>1489.750000</td>\n",
       "      <td>4383.500000</td>\n",
       "      <td>10182.000000</td>\n",
       "      <td>74158.000000</td>\n",
       "    </tr>\n",
       "    <tr>\n",
       "      <th>rf_yearly</th>\n",
       "      <td>266.0</td>\n",
       "      <td>73.499607</td>\n",
       "      <td>52.343809</td>\n",
       "      <td>0.25</td>\n",
       "      <td>50.484376</td>\n",
       "      <td>65.753160</td>\n",
       "      <td>79.770625</td>\n",
       "      <td>376.686667</td>\n",
       "    </tr>\n",
       "    <tr>\n",
       "      <th>rf_seasonal</th>\n",
       "      <td>266.0</td>\n",
       "      <td>152.957695</td>\n",
       "      <td>114.803031</td>\n",
       "      <td>0.55</td>\n",
       "      <td>96.500212</td>\n",
       "      <td>143.217840</td>\n",
       "      <td>171.870342</td>\n",
       "      <td>873.922000</td>\n",
       "    </tr>\n",
       "    <tr>\n",
       "      <th>salinity_alkalinity_index</th>\n",
       "      <td>266.0</td>\n",
       "      <td>11.623569</td>\n",
       "      <td>20.404331</td>\n",
       "      <td>0.00</td>\n",
       "      <td>0.000000</td>\n",
       "      <td>1.242340</td>\n",
       "      <td>12.264149</td>\n",
       "      <td>96.595410</td>\n",
       "    </tr>\n",
       "    <tr>\n",
       "      <th>unirrigatedarea1000hectares</th>\n",
       "      <td>266.0</td>\n",
       "      <td>48.828756</td>\n",
       "      <td>99.196558</td>\n",
       "      <td>1.00</td>\n",
       "      <td>1.000000</td>\n",
       "      <td>4.144615</td>\n",
       "      <td>43.812501</td>\n",
       "      <td>628.281991</td>\n",
       "    </tr>\n",
       "  </tbody>\n",
       "</table>\n",
       "</div>"
      ],
      "text/plain": [
       "                             count          mean           std      min  \\\n",
       "area1000hectares             266.0    126.698115    151.695884     0.01   \n",
       "production1000tonnes         266.0    343.883533    438.613264     0.02   \n",
       "irrigatedarea1000hectares    266.0     78.869359    111.449105     0.01   \n",
       "districtcode                 266.0    220.398496    241.947646     1.00   \n",
       "year                         266.0   2017.000000      0.000000  2017.00   \n",
       "statecode                    266.0      9.545113      5.158601     1.00   \n",
       "nitrogenconsumptiontonnes    266.0  54249.699248  45474.228372    75.00   \n",
       "phosphateconsumptiontonnes   266.0  21347.951128  16680.325268    33.00   \n",
       "potashconsumptiontonnes      266.0   7634.819549   9520.873518     2.00   \n",
       "rf_yearly                    266.0     73.499607     52.343809     0.25   \n",
       "rf_seasonal                  266.0    152.957695    114.803031     0.55   \n",
       "salinity_alkalinity_index    266.0     11.623569     20.404331     0.00   \n",
       "unirrigatedarea1000hectares  266.0     48.828756     99.196558     1.00   \n",
       "\n",
       "                                      25%           50%           75%  \\\n",
       "area1000hectares                14.665384     79.472221    181.735003   \n",
       "production1000tonnes            34.231732    191.240002    474.795005   \n",
       "irrigatedarea1000hectares        3.075000     33.003999    111.300500   \n",
       "districtcode                    69.750000    144.500000    220.750000   \n",
       "year                          2017.000000   2017.000000   2017.000000   \n",
       "statecode                        6.000000     10.000000     12.000000   \n",
       "nitrogenconsumptiontonnes    21172.500000  44017.000000  77084.500000   \n",
       "phosphateconsumptiontonnes    8920.500000  18456.000000  30641.500000   \n",
       "potashconsumptiontonnes       1489.750000   4383.500000  10182.000000   \n",
       "rf_yearly                       50.484376     65.753160     79.770625   \n",
       "rf_seasonal                     96.500212    143.217840    171.870342   \n",
       "salinity_alkalinity_index        0.000000      1.242340     12.264149   \n",
       "unirrigatedarea1000hectares      1.000000      4.144615     43.812501   \n",
       "\n",
       "                                       max  \n",
       "area1000hectares                959.010010  \n",
       "production1000tonnes           2726.580100  \n",
       "irrigatedarea1000hectares       641.060000  \n",
       "districtcode                    917.000000  \n",
       "year                           2017.000000  \n",
       "statecode                        20.000000  \n",
       "nitrogenconsumptiontonnes    294303.000000  \n",
       "phosphateconsumptiontonnes    93574.000000  \n",
       "potashconsumptiontonnes       74158.000000  \n",
       "rf_yearly                       376.686667  \n",
       "rf_seasonal                     873.922000  \n",
       "salinity_alkalinity_index        96.595410  \n",
       "unirrigatedarea1000hectares     628.281991  "
      ]
     },
     "execution_count": 18,
     "metadata": {},
     "output_type": "execute_result"
    }
   ],
   "source": [
    "numeric_summary = rice_data.describe(include='number').T\n",
    "numeric_summary"
   ]
  },
  {
   "cell_type": "markdown",
   "metadata": {
    "id": "RkQkFt5oDzli"
   },
   "source": [
    "### 1.6 Summary of Categorical Data\n",
    "\n",
    "  - There are **18 unique states** in the data.\n",
    "  \n",
    "  - **Uttar Pradesh** is the most represented, with **45 districts**, indicating a regional concentration of rice cultivation.\n",
    "\n",
    "  - All **266 district names** are unique (no duplicates), ensuring that each row represents a distinct district."
   ]
  },
  {
   "cell_type": "code",
   "execution_count": 19,
   "metadata": {
    "colab": {
     "base_uri": "https://localhost:8080/",
     "height": 143
    },
    "id": "gldEEZnXrY3d",
    "outputId": "e0df02b7-6376-45cc-f45b-246798c8dab8"
   },
   "outputs": [
    {
     "data": {
      "text/html": [
       "<div>\n",
       "<style scoped>\n",
       "    .dataframe tbody tr th:only-of-type {\n",
       "        vertical-align: middle;\n",
       "    }\n",
       "\n",
       "    .dataframe tbody tr th {\n",
       "        vertical-align: top;\n",
       "    }\n",
       "\n",
       "    .dataframe thead th {\n",
       "        text-align: right;\n",
       "    }\n",
       "</style>\n",
       "<table border=\"1\" class=\"dataframe\">\n",
       "  <thead>\n",
       "    <tr style=\"text-align: right;\">\n",
       "      <th></th>\n",
       "      <th>count</th>\n",
       "      <th>unique</th>\n",
       "      <th>top</th>\n",
       "      <th>freq</th>\n",
       "    </tr>\n",
       "  </thead>\n",
       "  <tbody>\n",
       "    <tr>\n",
       "      <th>crop</th>\n",
       "      <td>266</td>\n",
       "      <td>1</td>\n",
       "      <td>Rice</td>\n",
       "      <td>266</td>\n",
       "    </tr>\n",
       "    <tr>\n",
       "      <th>statename</th>\n",
       "      <td>266</td>\n",
       "      <td>18</td>\n",
       "      <td>Uttar Pradesh</td>\n",
       "      <td>45</td>\n",
       "    </tr>\n",
       "    <tr>\n",
       "      <th>districtname</th>\n",
       "      <td>266</td>\n",
       "      <td>266</td>\n",
       "      <td>Durg</td>\n",
       "      <td>1</td>\n",
       "    </tr>\n",
       "  </tbody>\n",
       "</table>\n",
       "</div>"
      ],
      "text/plain": [
       "             count unique            top freq\n",
       "crop           266      1           Rice  266\n",
       "statename      266     18  Uttar Pradesh   45\n",
       "districtname   266    266           Durg    1"
      ]
     },
     "execution_count": 19,
     "metadata": {},
     "output_type": "execute_result"
    }
   ],
   "source": [
    "categorical_summary = rice_data.describe(include='object').T\n",
    "categorical_summary"
   ]
  },
  {
   "cell_type": "markdown",
   "metadata": {
    "id": "nBik1rdeXDDG",
    "jp-MarkdownHeadingCollapsed": true
   },
   "source": [
    "# **2. Cobb-Douglas Production Function**"
   ]
  },
  {
   "cell_type": "markdown",
   "metadata": {
    "id": "_7cizUFgM64j"
   },
   "source": [
    "## 2.1 Taking log of non-envi vars"
   ]
  },
  {
   "cell_type": "code",
   "execution_count": 20,
   "metadata": {
    "colab": {
     "base_uri": "https://localhost:8080/",
     "height": 444
    },
    "id": "OMAIdf-YJ5Em",
    "outputId": "44445dce-d0d5-4870-89cb-ba7768e5992a"
   },
   "outputs": [
    {
     "data": {
      "text/html": [
       "<div>\n",
       "<style scoped>\n",
       "    .dataframe tbody tr th:only-of-type {\n",
       "        vertical-align: middle;\n",
       "    }\n",
       "\n",
       "    .dataframe tbody tr th {\n",
       "        vertical-align: top;\n",
       "    }\n",
       "\n",
       "    .dataframe thead th {\n",
       "        text-align: right;\n",
       "    }\n",
       "</style>\n",
       "<table border=\"1\" class=\"dataframe\">\n",
       "  <thead>\n",
       "    <tr style=\"text-align: right;\">\n",
       "      <th></th>\n",
       "      <th>crop</th>\n",
       "      <th>area1000hectares</th>\n",
       "      <th>production1000tonnes</th>\n",
       "      <th>irrigatedarea1000hectares</th>\n",
       "      <th>districtcode</th>\n",
       "      <th>year</th>\n",
       "      <th>statecode</th>\n",
       "      <th>statename</th>\n",
       "      <th>nitrogenconsumptiontonnes</th>\n",
       "      <th>phosphateconsumptiontonnes</th>\n",
       "      <th>...</th>\n",
       "      <th>rf_seasonal</th>\n",
       "      <th>salinity_alkalinity_index</th>\n",
       "      <th>unirrigatedarea1000hectares</th>\n",
       "      <th>log_area1000hectares</th>\n",
       "      <th>log_irrigatedarea1000hectares</th>\n",
       "      <th>log_nitrogenconsumptiontonnes</th>\n",
       "      <th>log_phosphateconsumptiontonnes</th>\n",
       "      <th>log_potashconsumptiontonnes</th>\n",
       "      <th>log_unirrigatedarea1000hectares</th>\n",
       "      <th>log_production1000tonnes</th>\n",
       "    </tr>\n",
       "  </thead>\n",
       "  <tbody>\n",
       "    <tr>\n",
       "      <th>0</th>\n",
       "      <td>Rice</td>\n",
       "      <td>841.130000</td>\n",
       "      <td>983.21002</td>\n",
       "      <td>353.733000</td>\n",
       "      <td>1</td>\n",
       "      <td>2017</td>\n",
       "      <td>14</td>\n",
       "      <td>Chhattisgarh</td>\n",
       "      <td>91447</td>\n",
       "      <td>53486</td>\n",
       "      <td>...</td>\n",
       "      <td>168.366000</td>\n",
       "      <td>0.000000</td>\n",
       "      <td>488.397000</td>\n",
       "      <td>6.734746</td>\n",
       "      <td>5.868542</td>\n",
       "      <td>11.423515</td>\n",
       "      <td>10.887175</td>\n",
       "      <td>9.740557</td>\n",
       "      <td>6.191129</td>\n",
       "      <td>6.890823</td>\n",
       "    </tr>\n",
       "    <tr>\n",
       "      <th>1</th>\n",
       "      <td>Rice</td>\n",
       "      <td>660.359990</td>\n",
       "      <td>801.82001</td>\n",
       "      <td>33.077999</td>\n",
       "      <td>2</td>\n",
       "      <td>2017</td>\n",
       "      <td>14</td>\n",
       "      <td>Chhattisgarh</td>\n",
       "      <td>21279</td>\n",
       "      <td>12584</td>\n",
       "      <td>...</td>\n",
       "      <td>176.925998</td>\n",
       "      <td>0.000000</td>\n",
       "      <td>628.281991</td>\n",
       "      <td>6.492785</td>\n",
       "      <td>3.498868</td>\n",
       "      <td>9.965476</td>\n",
       "      <td>9.440181</td>\n",
       "      <td>8.359603</td>\n",
       "      <td>6.442989</td>\n",
       "      <td>6.686884</td>\n",
       "    </tr>\n",
       "    <tr>\n",
       "      <th>2</th>\n",
       "      <td>Rice</td>\n",
       "      <td>959.010010</td>\n",
       "      <td>1520.95000</td>\n",
       "      <td>525.374020</td>\n",
       "      <td>3</td>\n",
       "      <td>2017</td>\n",
       "      <td>14</td>\n",
       "      <td>Chhattisgarh</td>\n",
       "      <td>92008</td>\n",
       "      <td>47721</td>\n",
       "      <td>...</td>\n",
       "      <td>133.599998</td>\n",
       "      <td>0.000000</td>\n",
       "      <td>434.635990</td>\n",
       "      <td>6.865902</td>\n",
       "      <td>6.264110</td>\n",
       "      <td>11.429631</td>\n",
       "      <td>10.773127</td>\n",
       "      <td>9.619399</td>\n",
       "      <td>6.074509</td>\n",
       "      <td>7.327090</td>\n",
       "    </tr>\n",
       "    <tr>\n",
       "      <th>3</th>\n",
       "      <td>Rice</td>\n",
       "      <td>727.940000</td>\n",
       "      <td>1295.71000</td>\n",
       "      <td>400.825010</td>\n",
       "      <td>4</td>\n",
       "      <td>2017</td>\n",
       "      <td>14</td>\n",
       "      <td>Chhattisgarh</td>\n",
       "      <td>72926</td>\n",
       "      <td>29713</td>\n",
       "      <td>...</td>\n",
       "      <td>155.783002</td>\n",
       "      <td>0.390813</td>\n",
       "      <td>328.114990</td>\n",
       "      <td>6.590219</td>\n",
       "      <td>5.993525</td>\n",
       "      <td>11.197201</td>\n",
       "      <td>10.299340</td>\n",
       "      <td>8.841448</td>\n",
       "      <td>5.793364</td>\n",
       "      <td>7.166814</td>\n",
       "    </tr>\n",
       "    <tr>\n",
       "      <th>4</th>\n",
       "      <td>Rice</td>\n",
       "      <td>411.120000</td>\n",
       "      <td>623.28998</td>\n",
       "      <td>54.150002</td>\n",
       "      <td>5</td>\n",
       "      <td>2017</td>\n",
       "      <td>14</td>\n",
       "      <td>Chhattisgarh</td>\n",
       "      <td>31282</td>\n",
       "      <td>13620</td>\n",
       "      <td>...</td>\n",
       "      <td>117.514000</td>\n",
       "      <td>0.000000</td>\n",
       "      <td>357.969998</td>\n",
       "      <td>6.018885</td>\n",
       "      <td>3.991758</td>\n",
       "      <td>10.350798</td>\n",
       "      <td>9.519295</td>\n",
       "      <td>8.217978</td>\n",
       "      <td>5.880449</td>\n",
       "      <td>6.435012</td>\n",
       "    </tr>\n",
       "    <tr>\n",
       "      <th>...</th>\n",
       "      <td>...</td>\n",
       "      <td>...</td>\n",
       "      <td>...</td>\n",
       "      <td>...</td>\n",
       "      <td>...</td>\n",
       "      <td>...</td>\n",
       "      <td>...</td>\n",
       "      <td>...</td>\n",
       "      <td>...</td>\n",
       "      <td>...</td>\n",
       "      <td>...</td>\n",
       "      <td>...</td>\n",
       "      <td>...</td>\n",
       "      <td>...</td>\n",
       "      <td>...</td>\n",
       "      <td>...</td>\n",
       "      <td>...</td>\n",
       "      <td>...</td>\n",
       "      <td>...</td>\n",
       "      <td>...</td>\n",
       "      <td>...</td>\n",
       "    </tr>\n",
       "    <tr>\n",
       "      <th>261</th>\n",
       "      <td>Rice</td>\n",
       "      <td>266.019990</td>\n",
       "      <td>533.69000</td>\n",
       "      <td>1.266000</td>\n",
       "      <td>913</td>\n",
       "      <td>2017</td>\n",
       "      <td>15</td>\n",
       "      <td>Jharkhand</td>\n",
       "      <td>15376</td>\n",
       "      <td>11091</td>\n",
       "      <td>...</td>\n",
       "      <td>252.012004</td>\n",
       "      <td>0.000000</td>\n",
       "      <td>265.753990</td>\n",
       "      <td>5.583571</td>\n",
       "      <td>0.235862</td>\n",
       "      <td>9.640563</td>\n",
       "      <td>9.313889</td>\n",
       "      <td>7.303843</td>\n",
       "      <td>5.582571</td>\n",
       "      <td>6.279815</td>\n",
       "    </tr>\n",
       "    <tr>\n",
       "      <th>262</th>\n",
       "      <td>Rice</td>\n",
       "      <td>53.279999</td>\n",
       "      <td>113.46000</td>\n",
       "      <td>1.019000</td>\n",
       "      <td>914</td>\n",
       "      <td>2017</td>\n",
       "      <td>15</td>\n",
       "      <td>Jharkhand</td>\n",
       "      <td>427</td>\n",
       "      <td>297</td>\n",
       "      <td>...</td>\n",
       "      <td>220.674004</td>\n",
       "      <td>0.000000</td>\n",
       "      <td>53.260999</td>\n",
       "      <td>3.975561</td>\n",
       "      <td>0.018822</td>\n",
       "      <td>6.056784</td>\n",
       "      <td>5.693732</td>\n",
       "      <td>4.406719</td>\n",
       "      <td>3.975204</td>\n",
       "      <td>4.731450</td>\n",
       "    </tr>\n",
       "    <tr>\n",
       "      <th>263</th>\n",
       "      <td>Rice</td>\n",
       "      <td>121.890000</td>\n",
       "      <td>253.28000</td>\n",
       "      <td>45.990002</td>\n",
       "      <td>915</td>\n",
       "      <td>2017</td>\n",
       "      <td>15</td>\n",
       "      <td>Jharkhand</td>\n",
       "      <td>16063</td>\n",
       "      <td>8959</td>\n",
       "      <td>...</td>\n",
       "      <td>157.571998</td>\n",
       "      <td>0.000000</td>\n",
       "      <td>76.899998</td>\n",
       "      <td>4.803119</td>\n",
       "      <td>3.828424</td>\n",
       "      <td>9.684274</td>\n",
       "      <td>9.100414</td>\n",
       "      <td>7.439559</td>\n",
       "      <td>4.342506</td>\n",
       "      <td>5.534496</td>\n",
       "    </tr>\n",
       "    <tr>\n",
       "      <th>264</th>\n",
       "      <td>Rice</td>\n",
       "      <td>556.330020</td>\n",
       "      <td>1124.50000</td>\n",
       "      <td>5.186000</td>\n",
       "      <td>916</td>\n",
       "      <td>2017</td>\n",
       "      <td>15</td>\n",
       "      <td>Jharkhand</td>\n",
       "      <td>28893</td>\n",
       "      <td>20374</td>\n",
       "      <td>...</td>\n",
       "      <td>255.110002</td>\n",
       "      <td>0.000000</td>\n",
       "      <td>552.144020</td>\n",
       "      <td>6.321362</td>\n",
       "      <td>1.645963</td>\n",
       "      <td>10.271355</td>\n",
       "      <td>9.922015</td>\n",
       "      <td>8.281218</td>\n",
       "      <td>6.313809</td>\n",
       "      <td>7.025094</td>\n",
       "    </tr>\n",
       "    <tr>\n",
       "      <th>265</th>\n",
       "      <td>Rice</td>\n",
       "      <td>386.910000</td>\n",
       "      <td>669.96997</td>\n",
       "      <td>2.834000</td>\n",
       "      <td>917</td>\n",
       "      <td>2017</td>\n",
       "      <td>15</td>\n",
       "      <td>Jharkhand</td>\n",
       "      <td>2588</td>\n",
       "      <td>1600</td>\n",
       "      <td>...</td>\n",
       "      <td>150.645998</td>\n",
       "      <td>0.000000</td>\n",
       "      <td>385.076000</td>\n",
       "      <td>5.958192</td>\n",
       "      <td>1.041689</td>\n",
       "      <td>7.858641</td>\n",
       "      <td>7.377759</td>\n",
       "      <td>4.804021</td>\n",
       "      <td>5.953441</td>\n",
       "      <td>6.507233</td>\n",
       "    </tr>\n",
       "  </tbody>\n",
       "</table>\n",
       "<p>266 rows × 23 columns</p>\n",
       "</div>"
      ],
      "text/plain": [
       "     crop  area1000hectares  production1000tonnes  irrigatedarea1000hectares  \\\n",
       "0    Rice        841.130000             983.21002                 353.733000   \n",
       "1    Rice        660.359990             801.82001                  33.077999   \n",
       "2    Rice        959.010010            1520.95000                 525.374020   \n",
       "3    Rice        727.940000            1295.71000                 400.825010   \n",
       "4    Rice        411.120000             623.28998                  54.150002   \n",
       "..    ...               ...                   ...                        ...   \n",
       "261  Rice        266.019990             533.69000                   1.266000   \n",
       "262  Rice         53.279999             113.46000                   1.019000   \n",
       "263  Rice        121.890000             253.28000                  45.990002   \n",
       "264  Rice        556.330020            1124.50000                   5.186000   \n",
       "265  Rice        386.910000             669.96997                   2.834000   \n",
       "\n",
       "     districtcode  year  statecode     statename  nitrogenconsumptiontonnes  \\\n",
       "0               1  2017         14  Chhattisgarh                      91447   \n",
       "1               2  2017         14  Chhattisgarh                      21279   \n",
       "2               3  2017         14  Chhattisgarh                      92008   \n",
       "3               4  2017         14  Chhattisgarh                      72926   \n",
       "4               5  2017         14  Chhattisgarh                      31282   \n",
       "..            ...   ...        ...           ...                        ...   \n",
       "261           913  2017         15     Jharkhand                      15376   \n",
       "262           914  2017         15     Jharkhand                        427   \n",
       "263           915  2017         15     Jharkhand                      16063   \n",
       "264           916  2017         15     Jharkhand                      28893   \n",
       "265           917  2017         15     Jharkhand                       2588   \n",
       "\n",
       "     phosphateconsumptiontonnes  ...  rf_seasonal salinity_alkalinity_index  \\\n",
       "0                         53486  ...   168.366000                  0.000000   \n",
       "1                         12584  ...   176.925998                  0.000000   \n",
       "2                         47721  ...   133.599998                  0.000000   \n",
       "3                         29713  ...   155.783002                  0.390813   \n",
       "4                         13620  ...   117.514000                  0.000000   \n",
       "..                          ...  ...          ...                       ...   \n",
       "261                       11091  ...   252.012004                  0.000000   \n",
       "262                         297  ...   220.674004                  0.000000   \n",
       "263                        8959  ...   157.571998                  0.000000   \n",
       "264                       20374  ...   255.110002                  0.000000   \n",
       "265                        1600  ...   150.645998                  0.000000   \n",
       "\n",
       "     unirrigatedarea1000hectares  log_area1000hectares  \\\n",
       "0                     488.397000              6.734746   \n",
       "1                     628.281991              6.492785   \n",
       "2                     434.635990              6.865902   \n",
       "3                     328.114990              6.590219   \n",
       "4                     357.969998              6.018885   \n",
       "..                           ...                   ...   \n",
       "261                   265.753990              5.583571   \n",
       "262                    53.260999              3.975561   \n",
       "263                    76.899998              4.803119   \n",
       "264                   552.144020              6.321362   \n",
       "265                   385.076000              5.958192   \n",
       "\n",
       "     log_irrigatedarea1000hectares  log_nitrogenconsumptiontonnes  \\\n",
       "0                         5.868542                      11.423515   \n",
       "1                         3.498868                       9.965476   \n",
       "2                         6.264110                      11.429631   \n",
       "3                         5.993525                      11.197201   \n",
       "4                         3.991758                      10.350798   \n",
       "..                             ...                            ...   \n",
       "261                       0.235862                       9.640563   \n",
       "262                       0.018822                       6.056784   \n",
       "263                       3.828424                       9.684274   \n",
       "264                       1.645963                      10.271355   \n",
       "265                       1.041689                       7.858641   \n",
       "\n",
       "     log_phosphateconsumptiontonnes  log_potashconsumptiontonnes  \\\n",
       "0                         10.887175                     9.740557   \n",
       "1                          9.440181                     8.359603   \n",
       "2                         10.773127                     9.619399   \n",
       "3                         10.299340                     8.841448   \n",
       "4                          9.519295                     8.217978   \n",
       "..                              ...                          ...   \n",
       "261                        9.313889                     7.303843   \n",
       "262                        5.693732                     4.406719   \n",
       "263                        9.100414                     7.439559   \n",
       "264                        9.922015                     8.281218   \n",
       "265                        7.377759                     4.804021   \n",
       "\n",
       "     log_unirrigatedarea1000hectares  log_production1000tonnes  \n",
       "0                           6.191129                  6.890823  \n",
       "1                           6.442989                  6.686884  \n",
       "2                           6.074509                  7.327090  \n",
       "3                           5.793364                  7.166814  \n",
       "4                           5.880449                  6.435012  \n",
       "..                               ...                       ...  \n",
       "261                         5.582571                  6.279815  \n",
       "262                         3.975204                  4.731450  \n",
       "263                         4.342506                  5.534496  \n",
       "264                         6.313809                  7.025094  \n",
       "265                         5.953441                  6.507233  \n",
       "\n",
       "[266 rows x 23 columns]"
      ]
     },
     "execution_count": 20,
     "metadata": {},
     "output_type": "execute_result"
    }
   ],
   "source": [
    "non_env_vars = [\n",
    "    'area1000hectares',\n",
    "    'irrigatedarea1000hectares',\n",
    "    'nitrogenconsumptiontonnes',\n",
    "    'phosphateconsumptiontonnes',\n",
    "    'potashconsumptiontonnes',\n",
    "    'unirrigatedarea1000hectares'\n",
    "]\n",
    "\n",
    "for var in non_env_vars:\n",
    "    log_col = f'log_{var}'\n",
    "    rice_data[log_col] = np.log(rice_data[var].replace(0, np.nan))\n",
    "\n",
    "rice_data['log_production1000tonnes'] = np.log(rice_data['production1000tonnes'].replace(0, np.nan))\n",
    "\n",
    "rice_data\n"
   ]
  },
  {
   "cell_type": "markdown",
   "metadata": {
    "id": "gGvltwrwNUEP"
   },
   "source": [
    "## 2.2 Cobb-Douglas"
   ]
  },
  {
   "cell_type": "code",
   "execution_count": 21,
   "metadata": {
    "colab": {
     "base_uri": "https://localhost:8080/"
    },
    "id": "FArwIKN4NfYC",
    "outputId": "f60593c1-2fdd-4a6d-ada0-8ef23d4319ad"
   },
   "outputs": [
    {
     "name": "stdout",
     "output_type": "stream",
     "text": [
      "                               OLS Regression Results                               \n",
      "====================================================================================\n",
      "Dep. Variable:     log_production1000tonnes   R-squared:                       0.847\n",
      "Model:                                  OLS   Adj. R-squared:                  0.843\n",
      "Method:                       Least Squares   F-statistic:                     204.2\n",
      "Date:                      Wed, 25 Jun 2025   Prob (F-statistic):          2.34e-101\n",
      "Time:                              12:00:45   Log-Likelihood:                -353.01\n",
      "No. Observations:                       266   AIC:                             722.0\n",
      "Df Residuals:                           258   BIC:                             750.7\n",
      "Df Model:                                 7                                         \n",
      "Covariance Type:                  nonrobust                                         \n",
      "===================================================================================================\n",
      "                                      coef    std err          t      P>|t|      [0.025      0.975]\n",
      "---------------------------------------------------------------------------------------------------\n",
      "Intercept                          -0.2473      0.511     -0.484      0.629      -1.254       0.760\n",
      "log_irrigatedarea1000hectares       0.8424      0.030     27.797      0.000       0.783       0.902\n",
      "log_unirrigatedarea1000hectares     0.4037      0.031     12.885      0.000       0.342       0.465\n",
      "log_nitrogenconsumptiontonnes       0.2089      0.147      1.420      0.157      -0.081       0.499\n",
      "log_phosphateconsumptiontonnes     -0.1243      0.137     -0.906      0.366      -0.394       0.146\n",
      "log_potashconsumptiontonnes         0.0376      0.052      0.724      0.470      -0.065       0.140\n",
      "rf_seasonal                         0.0020      0.001      3.443      0.001       0.001       0.003\n",
      "salinity_alkalinity_index          -0.0005      0.003     -0.168      0.866      -0.007       0.006\n",
      "==============================================================================\n",
      "Omnibus:                        8.490   Durbin-Watson:                   1.253\n",
      "Prob(Omnibus):                  0.014   Jarque-Bera (JB):               15.297\n",
      "Skew:                           0.047   Prob(JB):                     0.000477\n",
      "Kurtosis:                       4.171   Cond. No.                     1.76e+03\n",
      "==============================================================================\n",
      "\n",
      "Notes:\n",
      "[1] Standard Errors assume that the covariance matrix of the errors is correctly specified.\n",
      "[2] The condition number is large, 1.76e+03. This might indicate that there are\n",
      "strong multicollinearity or other numerical problems.\n"
     ]
    }
   ],
   "source": [
    "#Cobb-Douglas regression including rf_seasonal\n",
    "formula = (\n",
    "    'log_production1000tonnes ~ '\n",
    "    'log_irrigatedarea1000hectares + '\n",
    "    'log_unirrigatedarea1000hectares + '\n",
    "    'log_nitrogenconsumptiontonnes + '\n",
    "    'log_phosphateconsumptiontonnes + '\n",
    "    'log_potashconsumptiontonnes + '\n",
    "    'rf_seasonal + salinity_alkalinity_index'\n",
    ")\n",
    "\n",
    "model_A = smf.ols(formula, data=rice_data).fit()\n",
    "print(model_A.summary())"
   ]
  },
  {
   "cell_type": "markdown",
   "metadata": {
    "id": "eKGZvMNRmgFj",
    "jp-MarkdownHeadingCollapsed": true
   },
   "source": [
    "# **3. Outliers, Influential Observations & Correlation Analysis**"
   ]
  },
  {
   "cell_type": "markdown",
   "metadata": {
    "id": "DvgtP_8WH1Yf"
   },
   "source": [
    "## 3.1 Outliers and Influential Variables\n",
    "Identified outliers using standardized residuals (|std_residual| > 3) and influential points using Cook’s D (> 4/n), DFBETAs, DFFITs . After removing these points, I re-estimated the model.\n",
    "\n",
    "**Results:** Removing outliers led to a stronger, more explanatory model (higher R-squared, Adj. R-squared, F-statistic), with lower variances, but at the cost of a reduced sample size\n",
    "\n",
    "There was no clear evidence that these points were due to data entry or measurement errors. Therefore, outliers were retained in the main analysis to accurately reflect real-world variability. Both sets of results are presented to ensure transparency and robustness of findings."
   ]
  },
  {
   "cell_type": "code",
   "execution_count": 22,
   "metadata": {
    "colab": {
     "base_uri": "https://localhost:8080/"
    },
    "id": "t9yJstZelcEH",
    "outputId": "d35d7bb2-f019-467e-94b4-7dd81df45c85"
   },
   "outputs": [
    {
     "name": "stdout",
     "output_type": "stream",
     "text": [
      "Outlier indices (|standardized residual| > 3): [98]\n",
      "Influential point indices (Cook's D > 4/n): [0, 2, 31, 39, 60, 89, 90, 91, 93, 98, 99, 100, 101, 102, 105, 106, 108, 110, 111, 119, 258, 261, 262, 265]\n"
     ]
    }
   ],
   "source": [
    "# Recognizing Outliers and Influential points\n",
    "influence = model_A.get_influence()\n",
    "influence_df = influence.summary_frame()\n",
    "\n",
    "outliers = influence_df[abs(influence_df['standard_resid']) > 3]\n",
    "print(\"Outlier indices (|standardized residual| > 3):\", outliers.index.tolist())\n",
    "\n",
    "n = len(influence_df)\n",
    "influential_points = influence_df[influence_df['cooks_d'] > 4/n]\n",
    "print(\"Influential point indices (Cook's D > 4/n):\", influential_points.index.tolist())"
   ]
  },
  {
   "cell_type": "code",
   "execution_count": 23,
   "metadata": {
    "id": "80xm-buU0u3s"
   },
   "outputs": [],
   "source": [
    "X = rice_data[['log_irrigatedarea1000hectares','log_unirrigatedarea1000hectares','log_nitrogenconsumptiontonnes','log_phosphateconsumptiontonnes','log_potashconsumptiontonnes', 'rf_seasonal','salinity_alkalinity_index']]\n",
    "\n",
    "# DFBETAs\n",
    "dfbetas = influence.dfbetas\n",
    "dfbetas_df = pd.DataFrame(dfbetas, columns=['Intercept'] + X.columns.tolist())\n",
    "\n",
    "# DFFITS\n",
    "dffits, _ = influence.dffits\n",
    "dffits_series = pd.Series(dffits)\n"
   ]
  },
  {
   "cell_type": "code",
   "execution_count": 24,
   "metadata": {
    "colab": {
     "base_uri": "https://localhost:8080/"
    },
    "id": "-vkdwMQl2wXc",
    "outputId": "67bde340-6025-4190-a6fe-b7352d2ed900"
   },
   "outputs": [
    {
     "name": "stdout",
     "output_type": "stream",
     "text": [
      "\n",
      "Influential DFBETAs indices: [0, 2, 3, 7, 13, 14, 31, 39, 60, 69, 71, 85, 89, 90, 91, 92, 93, 95, 98, 99, 100, 101, 102, 105, 106, 108, 109, 110, 111, 114, 115, 116, 118, 119, 126, 127, 128, 129, 137, 154, 158, 160, 161, 162, 168, 192, 193, 203, 226, 231, 232, 234, 235, 239, 250, 251, 252, 258, 261, 262, 264, 265]\n",
      "\n",
      "Influential DFFITS indices: [0, 2, 31, 39, 60, 89, 90, 91, 93, 98, 99, 100, 101, 102, 105, 106, 108, 110, 111, 119, 127, 258, 261, 262, 265]\n"
     ]
    }
   ],
   "source": [
    "n = X.shape[0]\n",
    "k = X.shape[1]\n",
    "\n",
    "# Thresholds\n",
    "dfbeta_threshold = 2 / np.sqrt(n)\n",
    "dffits_threshold = 2 * np.sqrt(k / n)\n",
    "\n",
    "# Influential observations based on DFBETAs\n",
    "influential_dfbeta = (dfbetas_df.abs() > dfbeta_threshold).any(axis=1)\n",
    "print(\"\\nInfluential DFBETAs indices:\", dfbetas_df[influential_dfbeta].index.tolist())\n",
    "\n",
    "# Influential observations based on DFFITS\n",
    "influential_dffits = dffits_series.abs() > dffits_threshold\n",
    "print(\"\\nInfluential DFFITS indices:\", dffits_series[influential_dffits].index.tolist())\n"
   ]
  },
  {
   "cell_type": "code",
   "execution_count": 25,
   "metadata": {
    "id": "TfFf6Rrw8Mpt"
   },
   "outputs": [],
   "source": [
    "indices_to_remove = dfbetas_df[influential_dfbeta & influential_dffits].index.tolist()\n",
    "# rice_data.loc[indices_to_remove, :]"
   ]
  },
  {
   "cell_type": "code",
   "execution_count": 26,
   "metadata": {
    "colab": {
     "base_uri": "https://localhost:8080/"
    },
    "id": "3dcgbJZn3p7X",
    "outputId": "9b6c8dde-4b62-4215-89d2-dec6938d7690"
   },
   "outputs": [
    {
     "name": "stdout",
     "output_type": "stream",
     "text": [
      "\n",
      "Model summary without outliers/influential points:\n",
      "                               OLS Regression Results                               \n",
      "====================================================================================\n",
      "Dep. Variable:     log_production1000tonnes   R-squared:                       0.915\n",
      "Model:                                  OLS   Adj. R-squared:                  0.912\n",
      "Method:                       Least Squares   F-statistic:                     357.7\n",
      "Date:                      Wed, 25 Jun 2025   Prob (F-statistic):          8.46e-121\n",
      "Time:                              12:00:45   Log-Likelihood:                -229.12\n",
      "No. Observations:                       241   AIC:                             474.2\n",
      "Df Residuals:                           233   BIC:                             502.1\n",
      "Df Model:                                 7                                         \n",
      "Covariance Type:                  nonrobust                                         \n",
      "===================================================================================================\n",
      "                                      coef    std err          t      P>|t|      [0.025      0.975]\n",
      "---------------------------------------------------------------------------------------------------\n",
      "const                              -0.2337      0.375     -0.624      0.533      -0.972       0.504\n",
      "log_irrigatedarea1000hectares       0.9126      0.024     37.403      0.000       0.865       0.961\n",
      "log_unirrigatedarea1000hectares     0.2790      0.024     11.659      0.000       0.232       0.326\n",
      "log_nitrogenconsumptiontonnes       0.1503      0.108      1.390      0.166      -0.063       0.363\n",
      "log_phosphateconsumptiontonnes     -0.0517      0.101     -0.515      0.607      -0.250       0.146\n",
      "log_potashconsumptiontonnes         0.0260      0.037      0.701      0.484      -0.047       0.099\n",
      "rf_seasonal                         0.0016      0.000      3.238      0.001       0.001       0.003\n",
      "salinity_alkalinity_index          -0.0028      0.002     -1.332      0.184      -0.007       0.001\n",
      "==============================================================================\n",
      "Omnibus:                       20.280   Durbin-Watson:                   1.434\n",
      "Prob(Omnibus):                  0.000   Jarque-Bera (JB):               27.775\n",
      "Skew:                           0.570   Prob(JB):                     9.30e-07\n",
      "Kurtosis:                       4.210   Cond. No.                     1.61e+03\n",
      "==============================================================================\n",
      "\n",
      "Notes:\n",
      "[1] Standard Errors assume that the covariance matrix of the errors is correctly specified.\n",
      "[2] The condition number is large, 1.61e+03. This might indicate that there are\n",
      "strong multicollinearity or other numerical problems.\n"
     ]
    }
   ],
   "source": [
    "# Removing outliers and regressing\n",
    "rice_data_clean = rice_data.drop(index=indices_to_remove)\n",
    "X_clean = rice_data_clean[['log_irrigatedarea1000hectares',\n",
    "                           'log_unirrigatedarea1000hectares',\n",
    "                           'log_nitrogenconsumptiontonnes',\n",
    "                           'log_phosphateconsumptiontonnes',\n",
    "                           'log_potashconsumptiontonnes',\n",
    "                           'rf_seasonal',\n",
    "                           'salinity_alkalinity_index']]\n",
    "X_clean = sm.add_constant(X_clean)\n",
    "y_clean = rice_data_clean['log_production1000tonnes']\n",
    "\n",
    "model_clean = sm.OLS(y_clean, X_clean).fit()\n",
    "print(\"\\nModel summary without outliers/influential points:\")\n",
    "print(model_clean.summary())"
   ]
  },
  {
   "cell_type": "markdown",
   "metadata": {
    "id": "_-03VaC0KQtm"
   },
   "source": [
    "## 3.2 Correlation Diagnostics\n",
    "- The original model showed high multicollinearity, especially among fertilizer variables (nitrogen, phosphate, potash).\n",
    "- Combined the fertilizer variables into a single NPK_index to address multicollinearity.\n",
    "- The heatmap now shows all pairwise correlations among predictors are low\n",
    "- Despite low pairwise correlations, the model still shows a high condition number.\n",
    "- The remaining high condition number is likely due to scaling or numerical factors and does not indicate a problem with the model."
   ]
  },
  {
   "cell_type": "code",
   "execution_count": 27,
   "metadata": {
    "colab": {
     "base_uri": "https://localhost:8080/",
     "height": 769
    },
    "id": "rLKaZvpHzrgQ",
    "outputId": "c74a42af-39a1-45c3-e3aa-2b9f3a2f2ded"
   },
   "outputs": [
    {
     "data": {
      "image/png": "[encoded data removed]",
      "text/plain": [
       "<Figure size 800x600 with 2 Axes>"
      ]
     },
     "metadata": {},
     "output_type": "display_data"
    }
   ],
   "source": [
    "# Collinearity\n",
    "X = rice_data[['log_irrigatedarea1000hectares', 'log_unirrigatedarea1000hectares','log_nitrogenconsumptiontonnes', 'log_phosphateconsumptiontonnes','log_potashconsumptiontonnes', 'rf_seasonal', 'salinity_alkalinity_index']]\n",
    "corr_matrix = X.corr()\n",
    "\n",
    "plt.figure(figsize=(8, 6))\n",
    "sns.heatmap(corr_matrix, annot=True, cmap=\"coolwarm\", fmt=\".2f\")\n",
    "plt.title(\"Correlation Heatmap of Predictors\")\n",
    "plt.show()"
   ]
  },
  {
   "cell_type": "code",
   "execution_count": 28,
   "metadata": {
    "colab": {
     "base_uri": "https://localhost:8080/"
    },
    "id": "AfXJF15_EQpr",
    "outputId": "925a03bc-c813-47d2-d23b-65927ecf494f"
   },
   "outputs": [
    {
     "name": "stdout",
     "output_type": "stream",
     "text": [
      "                           Feature         VIF\n",
      "0    log_irrigatedarea1000hectares    3.617398\n",
      "1  log_unirrigatedarea1000hectares    2.360493\n",
      "2    log_nitrogenconsumptiontonnes  486.678422\n",
      "3   log_phosphateconsumptiontonnes  507.906564\n",
      "4      log_potashconsumptiontonnes   51.399260\n",
      "5                      rf_seasonal    3.595462\n",
      "6        salinity_alkalinity_index    1.576174\n"
     ]
    }
   ],
   "source": [
    "X_vif = X  # Remove the constant column before calculating VIF\n",
    "\n",
    "vif_data = pd.DataFrame()\n",
    "vif_data['Feature'] = X_vif.columns\n",
    "\n",
    "# Calculate VIF for each feature\n",
    "vif_data['VIF'] = [variance_inflation_factor(X_vif.values, i) for i in range(X_vif.shape[1])]\n",
    "\n",
    "# Display VIF values\n",
    "print(vif_data)\n"
   ]
  },
  {
   "cell_type": "code",
   "execution_count": 29,
   "metadata": {
    "colab": {
     "base_uri": "https://localhost:8080/"
    },
    "id": "bqWWlsifDO4V",
    "outputId": "cfe76fdf-22e1-49c1-dc97-fe646b8efd27"
   },
   "outputs": [
    {
     "name": "stdout",
     "output_type": "stream",
     "text": [
      "                               OLS Regression Results                               \n",
      "====================================================================================\n",
      "Dep. Variable:     log_production1000tonnes   R-squared:                       0.846\n",
      "Model:                                  OLS   Adj. R-squared:                  0.843\n",
      "Method:                       Least Squares   F-statistic:                     286.2\n",
      "Date:                      Wed, 25 Jun 2025   Prob (F-statistic):          1.69e-103\n",
      "Time:                              12:00:45   Log-Likelihood:                -353.77\n",
      "No. Observations:                       266   AIC:                             719.5\n",
      "Df Residuals:                           260   BIC:                             741.0\n",
      "Df Model:                                 5                                         \n",
      "Covariance Type:                  nonrobust                                         \n",
      "===================================================================================================\n",
      "                                      coef    std err          t      P>|t|      [0.025      0.975]\n",
      "---------------------------------------------------------------------------------------------------\n",
      "const                               0.0074      0.387      0.019      0.985      -0.754       0.769\n",
      "log_irrigatedarea1000hectares       0.8542      0.029     29.822      0.000       0.798       0.911\n",
      "log_unirrigatedarea1000hectares     0.3975      0.031     12.892      0.000       0.337       0.458\n",
      "NPK_index                           0.1088      0.043      2.554      0.011       0.025       0.193\n",
      "rf_seasonal                         0.0020      0.001      3.684      0.000       0.001       0.003\n",
      "salinity_alkalinity_index          -0.0004      0.003     -0.142      0.888      -0.006       0.006\n",
      "==============================================================================\n",
      "Omnibus:                        8.055   Durbin-Watson:                   1.250\n",
      "Prob(Omnibus):                  0.018   Jarque-Bera (JB):               14.127\n",
      "Skew:                           0.040   Prob(JB):                     0.000856\n",
      "Kurtosis:                       4.126   Cond. No.                     1.31e+03\n",
      "==============================================================================\n",
      "\n",
      "Notes:\n",
      "[1] Standard Errors assume that the covariance matrix of the errors is correctly specified.\n",
      "[2] The condition number is large, 1.31e+03. This might indicate that there are\n",
      "strong multicollinearity or other numerical problems.\n"
     ]
    }
   ],
   "source": [
    "# Composite NPK index\n",
    "rice_data['NPK_index'] = (\n",
    "    rice_data['log_nitrogenconsumptiontonnes'] +\n",
    "    rice_data['log_phosphateconsumptiontonnes'] +\n",
    "    rice_data['log_potashconsumptiontonnes']\n",
    ") / 3\n",
    "\n",
    "y = rice_data['log_production1000tonnes']\n",
    "X_new = rice_data[['log_irrigatedarea1000hectares',\n",
    "          'log_unirrigatedarea1000hectares',\n",
    "          'NPK_index',\n",
    "          'rf_seasonal',\n",
    "          'salinity_alkalinity_index']]\n",
    "X_new = sm.add_constant(X_new)\n",
    "model_A_no_corr = sm.OLS(y, X_new).fit()\n",
    "print(model_A_no_corr.summary())"
   ]
  },
  {
   "cell_type": "code",
   "execution_count": 30,
   "metadata": {
    "colab": {
     "base_uri": "https://localhost:8080/"
    },
    "id": "A3zAJsz1EaQx",
    "outputId": "173250e5-7a9b-4f34-dc2a-9f7f79d57599"
   },
   "outputs": [
    {
     "name": "stdout",
     "output_type": "stream",
     "text": [
      "                           Feature       VIF\n",
      "0    log_irrigatedarea1000hectares  3.378714\n",
      "1  log_unirrigatedarea1000hectares  2.330775\n",
      "2                        NPK_index  5.983556\n",
      "3                      rf_seasonal  3.406715\n",
      "4        salinity_alkalinity_index  1.569253\n"
     ]
    }
   ],
   "source": [
    "X_vif = X_new.drop(columns='const')  # Remove the constant column before calculating VIF\n",
    "\n",
    "vif_data = pd.DataFrame()\n",
    "vif_data['Feature'] = X_vif.columns\n",
    "\n",
    "# Calculate VIF for each feature\n",
    "vif_data['VIF'] = [variance_inflation_factor(X_vif.values, i) for i in range(X_vif.shape[1])]\n",
    "\n",
    "# Display VIF values\n",
    "print(vif_data)\n"
   ]
  },
  {
   "cell_type": "code",
   "execution_count": 31,
   "metadata": {
    "colab": {
     "base_uri": "https://localhost:8080/",
     "height": 762
    },
    "id": "IccrxTwVDyRN",
    "outputId": "68d10199-fec5-4789-8885-c7d896e35429"
   },
   "outputs": [
    {
     "data": {
      "image/png": "[encoded data removed]",
      "text/plain": [
       "<Figure size 800x600 with 2 Axes>"
      ]
     },
     "metadata": {},
     "output_type": "display_data"
    }
   ],
   "source": [
    "plt.figure(figsize=(8, 6))\n",
    "sns.heatmap(X_new.corr(), annot=True, cmap=\"coolwarm\", fmt=\".2f\")\n",
    "plt.title(\"Correlation Heatmap of Predictors\")\n",
    "plt.show()"
   ]
  },
  {
   "cell_type": "markdown",
   "metadata": {
    "id": "7RRlq2qh3E42",
    "jp-MarkdownHeadingCollapsed": true
   },
   "source": [
    "# **4. Residual Diagnostics**"
   ]
  },
  {
   "cell_type": "markdown",
   "metadata": {},
   "source": [
    "### **Strong Linear Relationship**\n",
    "Crop production increases consistently with area, confirming the fundamental agricultural economic principle that **land is a primary factor of production**. The linear model assumption is reasonably supported.\n",
    "\n",
    "### **Mild Heteroscedasticity Detected**\n",
    "Slight increase in residual variance at higher area values reflects economic reality - **larger agricultural operations face greater production variability** due to scale complexities, weather exposure across extensive areas, and management challenges.\n",
    "\n",
    "### **Approximately Normal Distribution**\n",
    "Residuals center around zero with bell-shaped distribution, indicating the model captures most systematic relationships. **Sum of residuals = 0** confirms unbiased estimation - critical for valid economic inference.\n",
    "\n",
    "### **Residuals Mostly Around Zero**\n",
    "Good overall model fit with no major systematic patterns, suggesting **area explains substantial variation in production** across districts."
   ]
  },
  {
   "cell_type": "code",
   "execution_count": 32,
   "metadata": {
    "colab": {
     "base_uri": "https://localhost:8080/",
     "height": 607
    },
    "id": "Sz2ggXQw8NkN",
    "outputId": "19a1261a-47da-4f70-e05e-015866bd16fb"
   },
   "outputs": [
    {
     "data": {
      "image/png": "[encoded data removed]",
      "text/plain": [
       "<Figure size 1000x600 with 1 Axes>"
      ]
     },
     "metadata": {},
     "output_type": "display_data"
    }
   ],
   "source": [
    "# Add residuals and predicted values to the DataFrame\n",
    "rice_data['residuals'] = model_A.resid\n",
    "rice_data['predicted'] = model_A.fittedvalues\n",
    "\n",
    "# Plot 1: Production vs Area, color by residuals\n",
    "plt.figure(figsize=(10, 6))\n",
    "sns.scatterplot(\n",
    "    x='area1000hectares',\n",
    "    y='production1000tonnes',\n",
    "    hue='residuals',\n",
    "    palette='coolwarm',\n",
    "    data=rice_data\n",
    ")\n",
    "plt.title('Crop Production vs Area (colored by residuals)')\n",
    "plt.xlabel('Area (1000 hectares)')\n",
    "plt.ylabel('Production (1000 tonnes)')\n",
    "plt.legend(title='Residuals')\n",
    "plt.tight_layout()\n",
    "plt.show()\n"
   ]
  },
  {
   "cell_type": "markdown",
   "metadata": {
    "id": "9FkM9JfG8h8h"
   },
   "source": [
    "Residuals vs Area plotting\n"
   ]
  },
  {
   "cell_type": "code",
   "execution_count": 33,
   "metadata": {
    "colab": {
     "base_uri": "https://localhost:8080/",
     "height": 607
    },
    "id": "OKc7WCWe8doN",
    "outputId": "2223f5d8-167f-4f73-e808-fd62ae8bc7e8"
   },
   "outputs": [
    {
     "data": {
      "image/png": "[encoded data removed]",
      "text/plain": [
       "<Figure size 1000x600 with 1 Axes>"
      ]
     },
     "metadata": {},
     "output_type": "display_data"
    }
   ],
   "source": [
    "# Plot 2: Residuals vs Area\n",
    "plt.figure(figsize=(10, 6))\n",
    "sns.scatterplot(\n",
    "    x='area1000hectares',\n",
    "    y='residuals',\n",
    "    data=rice_data\n",
    ")\n",
    "plt.axhline(0, color='red', linestyle='--')\n",
    "plt.title('Residuals vs Area')\n",
    "plt.xlabel('Area (1000 hectares)')\n",
    "plt.ylabel('Residuals')\n",
    "plt.tight_layout()\n",
    "plt.show()"
   ]
  },
  {
   "cell_type": "markdown",
   "metadata": {
    "id": "DiQME7RJ8rGz"
   },
   "source": [
    "Histogram of Residuals"
   ]
  },
  {
   "cell_type": "code",
   "execution_count": 34,
   "metadata": {
    "colab": {
     "base_uri": "https://localhost:8080/",
     "height": 525
    },
    "id": "4U3TKQYr8frB",
    "outputId": "528770e6-7371-4ff3-8979-34d7111009a3"
   },
   "outputs": [
    {
     "data": {
      "image/png": "[encoded data removed]",
      "text/plain": [
       "<Figure size 800x500 with 1 Axes>"
      ]
     },
     "metadata": {},
     "output_type": "display_data"
    },
    {
     "name": "stdout",
     "output_type": "stream",
     "text": [
      "Sum of residuals: 0.0000\n"
     ]
    }
   ],
   "source": [
    "# Plot 3: Histogram of Residuals\n",
    "plt.figure(figsize=(8, 5))\n",
    "sns.histplot(rice_data['residuals'], bins=30, kde=True)\n",
    "plt.title('Histogram of Residuals')\n",
    "plt.xlabel('Residual')\n",
    "plt.ylabel('Frequency')\n",
    "plt.tight_layout()\n",
    "plt.show()\n",
    "\n",
    "# Check if the sum of residuals is approximately zero\n",
    "residual_sum = rice_data['residuals'].sum()\n",
    "print(f\"Sum of residuals: {residual_sum:.4f}\")"
   ]
  },
  {
   "cell_type": "markdown",
   "metadata": {
    "id": "1qLj-iEos-Oz",
    "jp-MarkdownHeadingCollapsed": true
   },
   "source": [
    "# **5. Returns to Scale Test: Farmer-Controlled Inputs**"
   ]
  },
  {
   "cell_type": "markdown",
   "metadata": {
    "id": "zOKHIMSKyMIq"
   },
   "source": [
    "Farmer-Controlled Inputs:\n",
    "1. log_irrigatedarea1000hectares\n",
    "2. log_unirrigatedarea1000hectares\n",
    "3. log_nitrogenconsumptiontonnes\n",
    "4. log_phosphateconsumptiontonnes\n",
    "5. log_potashconsumptiontonnes\n",
    "\n",
    "We’ll test whether the sum of their coefficients equals 1, which would imply constant returns to scale (CRS)."
   ]
  },
  {
   "cell_type": "markdown",
   "metadata": {
    "id": "HO0HJlOSyeT6"
   },
   "source": [
    "Hypotheses for Returns to Scale Test:\n",
    "\n",
    "Null Hypothesis (H₀):\n",
    "The production function exhibits constant returns to scale.\n",
    "\n",
    "𝛽\n",
    "1\n",
    "+\n",
    "𝛽\n",
    "2\n",
    "+\n",
    "𝛽\n",
    "3\n",
    "+\n",
    "𝛽\n",
    "4\n",
    "+\n",
    "𝛽\n",
    "5\n",
    "= 1\n",
    "\n",
    "Alternative Hypothesis (H₁):\n",
    "The production function exhibits increasing or decreasing returns to scale.\n",
    "\n",
    "𝛽\n",
    "1\n",
    "+\n",
    "𝛽\n",
    "2\n",
    "+\n",
    "𝛽\n",
    "3\n",
    "+\n",
    "𝛽\n",
    "4\n",
    "+\n",
    "𝛽\n",
    "5\n",
    "≠\n",
    "1"
   ]
  },
  {
   "cell_type": "code",
   "execution_count": 35,
   "metadata": {
    "colab": {
     "base_uri": "https://localhost:8080/"
    },
    "id": "5h_uZNpUmg_n",
    "outputId": "37016e2b-eec5-4186-c03d-f1000599fd1f"
   },
   "outputs": [
    {
     "name": "stdout",
     "output_type": "stream",
     "text": [
      "\n",
      "F-test for constant returns to scale:\n",
      "<F test: F=46.88812935758752, p=5.4740803661611516e-11, df_denom=258, df_num=1>\n"
     ]
    }
   ],
   "source": [
    "model_A = smf.ols(formula, data=rice_data).fit()\n",
    "\n",
    "# H0: sum of farmer-controlled input coefficients = 1\n",
    "ftest = model_A.f_test(\n",
    "    'log_irrigatedarea1000hectares + '\n",
    "    'log_unirrigatedarea1000hectares + '\n",
    "    'log_nitrogenconsumptiontonnes + '\n",
    "    'log_phosphateconsumptiontonnes + '\n",
    "    'log_potashconsumptiontonnes = 1'\n",
    ")\n",
    "\n",
    "# Print F-test result\n",
    "print(\"\\nF-test for constant returns to scale:\")\n",
    "print(ftest)"
   ]
  },
  {
   "cell_type": "markdown",
   "metadata": {
    "id": "sJlv_DDXqXpn"
   },
   "source": [
    "Based on the F-test, we reject the null hypothesis of constant returns to scale at any conventional significance level (p < 0.01).\n",
    "This provides strong statistical evidence that the production function exhibits non-constant returns to scale with respect to the inputs controlled by farmers."
   ]
  },
  {
   "cell_type": "markdown",
   "metadata": {
    "id": "jlqsTEzLqwN_"
   },
   "source": [
    "The Cobb-Douglas production function does not exhibit constant returns to scale.\n",
    "The sum of the input elasticities is approximately 1.37, indicating increasing returns to scale.\n",
    "This suggests that a 1% increase in all farmer-controlled inputs leads to a more than 1% increase in output, on average."
   ]
  },
  {
   "cell_type": "markdown",
   "metadata": {
    "id": "0S2-u5SpPTcT",
    "jp-MarkdownHeadingCollapsed": true
   },
   "source": [
    "# **6. Quadratic Production Function & Diminishing Marginal Returns**"
   ]
  },
  {
   "cell_type": "markdown",
   "metadata": {},
   "source": [
    "## Quadratic Production Function\n",
    "\n",
    "Building upon the Cobb-Douglas framework, we employed a quadratic production function to explore potential non-linear relationships between inputs and rice production more comprehensively. This approach allows for the assessment of diminishing or increasing returns to scale for individual inputs, potentially offering a more nuanced understanding of their impact on output.\n",
    "\n",
    "**R-squared: 0.902**\n",
    "\n",
    "**Adjusted R-squared: 0.898**\n",
    "\n",
    "**F-statistic: 194.8 (p < 0.001)**\n",
    "\n",
    "- High explanatory power (R-squared = 0.902) and overall model significance\n",
    "- Diminishing returns for Unirrigated area\n",
    "- Significant negative impact of salinity/alkalinity on production\n",
    "\n",
    "## Hypothesis Testing for Diminishing Marginal Returns\n",
    "\n",
    "**Hypothesis:**\n",
    "- **Null Hypothesis:** The squared term coefficient is greater than or equal to zero (no diminishing marginal returns)\n",
    "- **Alternative Hypothesis:** The squared term coefficient is less than zero (evidence of diminishing marginal returns)\n",
    "\n",
    "**Results and Interpretation:**\n",
    "- **Unirrigated area squared:**\n",
    "  - Coefficient is significantly negative (p = 0.00032)\n",
    "  - **Reject Null Hyp :** There is strong evidence of diminishing marginal returns to unirrigated land\n",
    "\n",
    "- **All other squared terms (irrigated area, nitrogen, phosphate, potash):**\n",
    "  - Coefficients are not significantly negative (p > 0.05)\n",
    "  - **Fail to reject Null Hyp:** No strong evidence of diminishing marginal returns for these inputs\n",
    "\n",
    "**Summary:**\n",
    "Only unirrigated land shows statistically significant diminishing marginal returns, meaning that increasing unirrigated area leads to smaller incremental gains in output. For other inputs, there is no strong statistical evidence of diminishing marginal returns based on the one-sided t-tests."
   ]
  },
  {
   "cell_type": "markdown",
   "metadata": {
    "id": "BldNVGiaTlxq"
   },
   "source": [
    "### 6.1 Quadratic Production Function"
   ]
  },
  {
   "cell_type": "code",
   "execution_count": 36,
   "metadata": {
    "id": "6T1RCauvPxm7"
   },
   "outputs": [],
   "source": [
    "rice_data['irrigated_sq'] = rice_data['irrigatedarea1000hectares'] ** 2\n",
    "rice_data['unirrigated_sq'] = rice_data['unirrigatedarea1000hectares'] ** 2\n",
    "rice_data['nitrogen_sq'] = rice_data['nitrogenconsumptiontonnes'] ** 2\n",
    "rice_data['phosphate_sq'] = rice_data['phosphateconsumptiontonnes'] ** 2\n",
    "rice_data['potash_sq'] = rice_data['potashconsumptiontonnes'] ** 2\n",
    "##print(rice_data.columns.tolist())"
   ]
  },
  {
   "cell_type": "code",
   "execution_count": 37,
   "metadata": {
    "colab": {
     "base_uri": "https://localhost:8080/"
    },
    "id": "jlIm5D10WU_D",
    "outputId": "eabf5271-5a0d-4d37-d387-e42ab8a198b9"
   },
   "outputs": [
    {
     "name": "stdout",
     "output_type": "stream",
     "text": [
      "                        feature        VIF\n",
      "0                         const   7.530622\n",
      "1     irrigatedarea1000hectares   9.568539\n",
      "2                  irrigated_sq   8.528273\n",
      "3   unirrigatedarea1000hectares   7.211322\n",
      "4                unirrigated_sq   6.931853\n",
      "5     nitrogenconsumptiontonnes  25.137082\n",
      "6                   nitrogen_sq  15.900177\n",
      "7    phosphateconsumptiontonnes  23.382106\n",
      "8                  phosphate_sq  14.759321\n",
      "9       potashconsumptiontonnes   7.095739\n",
      "10                    potash_sq   5.007764\n",
      "11                  rf_seasonal   1.293498\n",
      "12    salinity_alkalinity_index   1.221739\n",
      " \n",
      "                             OLS Regression Results                             \n",
      "================================================================================\n",
      "Dep. Variable:     production1000tonnes   R-squared:                       0.902\n",
      "Model:                              OLS   Adj. R-squared:                  0.898\n",
      "Method:                   Least Squares   F-statistic:                     194.8\n",
      "Date:                  Wed, 25 Jun 2025   Prob (F-statistic):          2.81e-120\n",
      "Time:                          12:00:46   Log-Likelihood:                -1685.8\n",
      "No. Observations:                   266   AIC:                             3398.\n",
      "Df Residuals:                       253   BIC:                             3444.\n",
      "Df Model:                            12                                         \n",
      "Covariance Type:              nonrobust                                         \n",
      "===============================================================================================\n",
      "                                  coef    std err          t      P>|t|      [0.025      0.975]\n",
      "-----------------------------------------------------------------------------------------------\n",
      "Intercept                      24.2393     23.601      1.027      0.305     -22.240      70.719\n",
      "irrigatedarea1000hectares       3.0979      0.239     12.954      0.000       2.627       3.569\n",
      "irrigated_sq                    0.0004      0.001      0.866      0.387      -0.001       0.001\n",
      "unirrigatedarea1000hectares     2.0503      0.233      8.790      0.000       1.591       2.510\n",
      "unirrigated_sq                 -0.0019      0.001     -3.457      0.001      -0.003      -0.001\n",
      "nitrogenconsumptiontonnes   -4.325e-05      0.001     -0.046      0.964      -0.002       0.002\n",
      "nitrogen_sq                  9.219e-09   3.72e-09      2.481      0.014     1.9e-09    1.65e-08\n",
      "phosphateconsumptiontonnes     -0.0014      0.002     -0.543      0.587      -0.006       0.004\n",
      "phosphate_sq                -4.128e-08   2.92e-08     -1.415      0.158   -9.87e-08    1.62e-08\n",
      "potashconsumptiontonnes         0.0032      0.002      1.337      0.182      -0.002       0.008\n",
      "potash_sq                   -3.068e-09    4.4e-08     -0.070      0.945   -8.98e-08    8.37e-08\n",
      "rf_seasonal                    -0.0204      0.085     -0.239      0.811      -0.188       0.148\n",
      "salinity_alkalinity_index      -1.3619      0.467     -2.918      0.004      -2.281      -0.443\n",
      "==============================================================================\n",
      "Omnibus:                       55.300   Durbin-Watson:                   1.284\n",
      "Prob(Omnibus):                  0.000   Jarque-Bera (JB):              778.324\n",
      "Skew:                          -0.226   Prob(JB):                    9.75e-170\n",
      "Kurtosis:                      11.368   Cond. No.                     2.90e+10\n",
      "==============================================================================\n",
      "\n",
      "Notes:\n",
      "[1] Standard Errors assume that the covariance matrix of the errors is correctly specified.\n",
      "[2] The condition number is large, 2.9e+10. This might indicate that there are\n",
      "strong multicollinearity or other numerical problems.\n"
     ]
    }
   ],
   "source": [
    "# Quadratic regression model\n",
    "quad_formula = (\n",
    "    'production1000tonnes ~ '\n",
    "    'irrigatedarea1000hectares + irrigated_sq + '\n",
    "    'unirrigatedarea1000hectares + unirrigated_sq + '\n",
    "    'nitrogenconsumptiontonnes + nitrogen_sq + '\n",
    "    'phosphateconsumptiontonnes + phosphate_sq + '\n",
    "    'potashconsumptiontonnes + potash_sq + '\n",
    "    'rf_seasonal + salinity_alkalinity_index'\n",
    ")\n",
    "\n",
    "# Get the predictor variables from your quadratic formula\n",
    "X_quad = rice_data[['irrigatedarea1000hectares', 'irrigated_sq',\n",
    "                   'unirrigatedarea1000hectares', 'unirrigated_sq',\n",
    "                   'nitrogenconsumptiontonnes', 'nitrogen_sq',\n",
    "                   'phosphateconsumptiontonnes', 'phosphate_sq',\n",
    "                   'potashconsumptiontonnes', 'potash_sq',\n",
    "                   'rf_seasonal', 'salinity_alkalinity_index']]\n",
    "\n",
    "X_quad = sm.add_constant(X_quad)\n",
    "\n",
    "\n",
    "vif_data = pd.DataFrame()\n",
    "vif_data[\"feature\"] = X_quad.columns\n",
    "vif_data[\"VIF\"] = [variance_inflation_factor(X_quad.values, i) for i in range(X_quad.shape[1])]\n",
    "\n",
    "\n",
    "print(vif_data)\n",
    "print(\" \")\n",
    "\n",
    "model_b = smf.ols(formula=quad_formula, data=rice_data).fit()\n",
    "\n",
    "\n",
    "print(model_b.summary())"
   ]
  },
  {
   "cell_type": "markdown",
   "metadata": {
    "id": "o_qeg751JsxI"
   },
   "source": [
    "### 6.2 Hypothese Testing: Diminishing Marginal Returns"
   ]
  },
  {
   "cell_type": "code",
   "execution_count": 38,
   "metadata": {
    "colab": {
     "base_uri": "https://localhost:8080/"
    },
    "id": "drlYKD8Ym-be",
    "outputId": "d2a4a510-21ab-456a-d087-132ead82c875"
   },
   "outputs": [
    {
     "name": "stdout",
     "output_type": "stream",
     "text": [
      "\n",
      "=== One-sided t-tests for Diminishing Marginal Returns ===\n",
      "\n",
      "irrigated_sq:\n",
      "  Coefficient = 0.00045\n",
      "  Std Error   = 0.00052\n",
      "  t-Statistic = 0.866\n",
      "  One-sided p-value (H1: coef < 0) = 0.80632\n",
      "Fail to reject H₀: No strong evidence of diminishing returns.\n",
      "\n",
      "unirrigated_sq:\n",
      "  Coefficient = -0.00188\n",
      "  Std Error   = 0.00054\n",
      "  t-Statistic = -3.457\n",
      "  One-sided p-value (H1: coef < 0) = 0.00032\n",
      "Reject H₀: Evidence of diminishing marginal returns.\n",
      "\n",
      "nitrogen_sq:\n",
      "  Coefficient = 0.00000\n",
      "  Std Error   = 0.00000\n",
      "  t-Statistic = 2.481\n",
      "  One-sided p-value (H1: coef < 0) = 0.99313\n",
      "Fail to reject H₀: No strong evidence of diminishing returns.\n",
      "\n",
      "phosphate_sq:\n",
      "  Coefficient = -0.00000\n",
      "  Std Error   = 0.00000\n",
      "  t-Statistic = -1.415\n",
      "  One-sided p-value (H1: coef < 0) = 0.07910\n",
      "Fail to reject H₀: No strong evidence of diminishing returns.\n",
      "\n",
      "potash_sq:\n",
      "  Coefficient = -0.00000\n",
      "  Std Error   = 0.00000\n",
      "  t-Statistic = -0.070\n",
      "  One-sided p-value (H1: coef < 0) = 0.47226\n",
      "Fail to reject H₀: No strong evidence of diminishing returns.\n"
     ]
    }
   ],
   "source": [
    "print(\"\\n=== One-sided t-tests for Diminishing Marginal Returns ===\")\n",
    "squared_terms = ['irrigated_sq', 'unirrigated_sq', 'nitrogen_sq', 'phosphate_sq', 'potash_sq']\n",
    "df_resid = model_b.df_resid\n",
    "\n",
    "for var in squared_terms:\n",
    "    coef = model_b.params[var]\n",
    "    std_err = model_b.bse[var]\n",
    "    t_stat = (coef - 0) / std_err  # Null hypothesis: coef >= 0; test if coef < 0\n",
    "    p_value = t.cdf(t_stat, df_resid)  # One-sided p-value for negative direction\n",
    "\n",
    "    print(f\"\\n{var}:\")\n",
    "    print(f\"  Coefficient = {coef:.5f}\")\n",
    "    print(f\"  Std Error   = {std_err:.5f}\")\n",
    "    print(f\"  t-Statistic = {t_stat:.3f}\")\n",
    "    print(f\"  One-sided p-value (H1: coef < 0) = {p_value:.5f}\")\n",
    "\n",
    "    if p_value < 0.05:\n",
    "        print(\"Reject H₀: Evidence of diminishing marginal returns.\")\n",
    "    else:\n",
    "        print(\"Fail to reject H₀: No strong evidence of diminishing returns.\")"
   ]
  },
  {
   "cell_type": "markdown",
   "metadata": {
    "id": "6XaIIq16N6DZ",
    "jp-MarkdownHeadingCollapsed": true
   },
   "source": [
    "# **7. Hypothesis Testing: Input Complementarity**"
   ]
  },
  {
   "cell_type": "markdown",
   "metadata": {},
   "source": [
    "\n",
    "\n",
    "### **Individual Interaction Terms Analysis**\n",
    "\n",
    "**One-sided t-tests for the following hypotheses:**\n",
    "\n",
    "- **H₀:** Coefficient of interaction term ≤ 0 (No complementarity)\n",
    "- **H₁:** Coefficient of interaction term > 0 (Evidence of complementarity)\n",
    "\n",
    "| Input Pair | Coefficient | Std. Error | t-Statistic | One-sided p-value (H₁: coef > 0) | Conclusion |\n",
    "|------------|-------------|------------|-------------|-----------------------------------|------------|\n",
    "| irr_nit    | 0.00003     | 0          | 7.686       | 0                                | Reject H₀: Evidence of complementarity |\n",
    "| irr_phos   | -0.00006    | 0.00001    | -6.504      | 1                                | Fail to reject H₀: No evidence |\n",
    "| irr_pot    | 0.00004     | 0.00001    | 5.564       | 0                                | Reject H₀: Evidence of complementarity |\n",
    "\n",
    "### **Joint F-test**\n",
    "\n",
    "- **H₀:** coefficients of irr_nit, irr_phos, irr_pot = 0; i.e. no input complementarity\n",
    "- **H₁:** The interaction terms do significantly improve model fit. (i.e., evidence of input complementarity — at least one coefficient ≠ 0)\n",
    "\n",
    "| Model | df_resid | SSR (Sum of Squared Residuals) | df_diff | ss_diff | F-value | p-value | Conclusion |\n",
    "|-------|----------|--------------------------------|---------|---------|---------|---------|------------|\n",
    "| b     | 253      | 4.98E+06                      | —       | —       | —       | —       | Base model |\n",
    "| c     | 250      | 3.85E+06                      | 3       | 1.13E+06| 24.39   | 7.03E-14| Model c fits significantly better |\n",
    "\n",
    "### **Economic Interpretation**\n",
    "\n",
    "**✓ Strong Evidence of Complementarity:**\n",
    "- **Irrigation × Nitrogen**: Significant positive interaction (p ≈ 0)\n",
    "- **Irrigation × Potash**: Significant positive interaction (p ≈ 0)\n",
    "- **Joint F-test**: Highly significant (p = 7.03E-14)\n",
    "\n",
    "**✗ No Evidence:**\n",
    "- **Irrigation × Phosphate**: Negative coefficient, not significant for complementarity\n",
    "\n",
    "**Summary:**\n",
    "Strong statistical evidence that nitrogen and potash are more effective when combined with irrigation, confirming input complementarity hypothesis. The joint model significantly outperforms the base model, indicating that interaction effects are economically and statistically important in agricultural production."
   ]
  },
  {
   "cell_type": "markdown",
   "metadata": {
    "id": "twnkuTkGr_iM"
   },
   "source": [
    "Defining the new model:"
   ]
  },
  {
   "cell_type": "code",
   "execution_count": 40,
   "metadata": {
    "id": "f7i9my2gsBls"
   },
   "outputs": [],
   "source": [
    "full_formula = quad_formula + ' + irr_nit + irr_phos + irr_pot'\n",
    "model_c = smf.ols(full_formula, data=rice_data).fit() # Fitting this interaction included term model"
   ]
  },
  {
   "cell_type": "code",
   "execution_count": 41,
   "metadata": {
    "colab": {
     "base_uri": "https://localhost:8080/"
    },
    "id": "NFJqiPMssa6M",
    "outputId": "7f77b402-253c-4d34-9ccd-af268b25a5a3"
   },
   "outputs": [
    {
     "name": "stdout",
     "output_type": "stream",
     "text": [
      "\n",
      "=== One-sided t-tests for Input Complementarity ===\n",
      "\n",
      "irr_nit:\n",
      "  Coefficient = 0.00003\n",
      "  Std Error   = 0.00000\n",
      "  t-Statistic = 7.686\n",
      "  One-sided p-value (H1: coef > 0) = 0.00000\n",
      "Reject H₀: Evidence of input complementarity.\n",
      "\n",
      "irr_phos:\n",
      "  Coefficient = -0.00006\n",
      "  Std Error   = 0.00001\n",
      "  t-Statistic = -6.504\n",
      "  One-sided p-value (H1: coef > 0) = 1.00000\n",
      "Fail to reject H₀: No strong evidence of complementarity.\n",
      "\n",
      "irr_pot:\n",
      "  Coefficient = 0.00004\n",
      "  Std Error   = 0.00001\n",
      "  t-Statistic = 5.564\n",
      "  One-sided p-value (H1: coef > 0) = 0.00000\n",
      "Reject H₀: Evidence of input complementarity.\n"
     ]
    }
   ],
   "source": [
    "interaction_terms = ['irr_nit', 'irr_phos', 'irr_pot']\n",
    "df_resid = model_c.df_resid\n",
    "\n",
    "print(\"\\n=== One-sided t-tests for Input Complementarity ===\")\n",
    "for term in interaction_terms:\n",
    "    coef    = model_c.params[term]\n",
    "    std_err = model_c.bse[term]\n",
    "    t_stat  = (coef - 0) / std_err        # H0: coef <= 0; H1: coef > 0\n",
    "    p_value = 1 - t.cdf(t_stat, df_resid)  # One-sided p-value for positive direction as we have to check for more effective\n",
    "    print(f\"\\n{term}:\")\n",
    "    print(f\"  Coefficient = {coef:.5f}\")\n",
    "    print(f\"  Std Error   = {std_err:.5f}\")\n",
    "    print(f\"  t-Statistic = {t_stat:.3f}\")\n",
    "    print(f\"  One-sided p-value (H1: coef > 0) = {p_value:.5f}\")\n",
    "\n",
    "    if p_value < 0.05:\n",
    "        print(\"Reject H₀: Evidence of input complementarity.\")\n",
    "    else:\n",
    "        print(\"Fail to reject H₀: No strong evidence of complementarity.\")"
   ]
  },
  {
   "cell_type": "markdown",
   "metadata": {
    "id": "E5lLDqHqwpuK"
   },
   "source": [
    "Check if interaction of these terms matter as a group at all\n",
    "\n",
    "Ho: B1 = B2 = B3 = 0, H1: B > 0"
   ]
  },
  {
   "cell_type": "code",
   "execution_count": 42,
   "metadata": {
    "colab": {
     "base_uri": "https://localhost:8080/"
    },
    "id": "4eGhYvA7w7yx",
    "outputId": "1c73f10b-511d-4071-bf58-de2d5ad9675c"
   },
   "outputs": [
    {
     "name": "stdout",
     "output_type": "stream",
     "text": [
      "   df_resid           ssr  df_diff       ss_diff          F        Pr(>F)\n",
      "0     253.0  4.977806e+06      0.0           NaN        NaN           NaN\n",
      "1     250.0  3.850618e+06      3.0  1.127188e+06  24.394091  7.031062e-14\n"
     ]
    }
   ],
   "source": [
    "resVsNonRes = anova_lm(model_b, model_c)\n",
    "print(resVsNonRes)"
   ]
  },
  {
   "cell_type": "markdown",
   "metadata": {
    "id": "01pri_saC8Qw"
   },
   "source": [
    "\n",
    "Lower is better: Model c’s SSR (3.85 M) is much smaller than Model b’s (4.98 M), meaning the full model fits better."
   ]
  },
  {
   "cell_type": "markdown",
   "metadata": {
    "id": "ET5gNBg_DIjz"
   },
   "source": [
    "# **8.Enhancing Models: Regional Dummies**"
   ]
  },
  {
   "cell_type": "markdown",
   "metadata": {
    "id": "x7UOCzO3D19C"
   },
   "source": [
    "https://www.rbi.org.in/upload/Publications/PDFs/58914.pdf the document for reference that we have used. 1 base case and 5 dummy variables."
   ]
  },
  {
   "cell_type": "markdown",
   "metadata": {},
   "source": [
    "\n",
    "\n",
    "### **Model Specification & Performance**\n",
    "\n",
    "**Base Region:** South (used as reference group)\n",
    "\n",
    "**Model 1:** Cobb-Douglas Production Function  \n",
    "**Model 2:** Quadratic Production Function\n",
    "\n",
    "**Quadratic outperforms Cobb-Douglas** in explaining variation in output due to inclusion of non-linear terms, with R-squared improving from 85.4% to 91.2%.\n",
    "\n",
    "### **Economic Interpretation**\n",
    "\n",
    "**✓ Consistent Regional Patterns:**\n",
    "- **All regions (North, East, Central, North-East) show lower productivity** compared to the South, consistent across both models\n",
    "- **Coefficients for most non-South dummies are negative and statistically significant**\n",
    "- South emerges as the **most productive agricultural region** in India\n",
    "\n",
    "**✓ Regional Productivity Ranking:**\n",
    "1. **South** (reference, highest productivity)\n",
    "2. **East** (positive in Cobb-Douglas, but negative in quadratic)\n",
    "3. **West** (mixed performance)\n",
    "4. **North** (consistently lower productivity)\n",
    "5. **Central** (lowest productivity in both models)\n",
    "6. **North-East** (moderate underperformance)\n",
    "\n",
    "### **Model Enhancement Benefits**\n",
    "\n",
    "**✓ Improved Model Fit:**\n",
    "- **Lower VIF** in Model B reduces multicollinearity concerns\n",
    "- **Higher R-squared** in quadratic model captures more variation\n",
    "- **Greater flexibility** in capturing true input-output relationships\n",
    "\n",
    "**✓ Regional Heterogeneity Captured:**\n",
    "- Controls for **unobserved regional characteristics** (climate, soil, institutions)\n",
    "- Provides **region-specific policy insights**\n",
    "- Accounts for **geographical advantages/disadvantages**\n",
    "\n",
    "**Summary:**\n",
    "Regional dummies reveal significant **spatial heterogeneity** in agricultural productivity, with South India demonstrating superior performance. The enhanced models provide more accurate estimates by controlling for regional fixed effects, enabling targeted policy interventions for agricultural development across different zones of India."
   ]
  },
  {
   "cell_type": "code",
   "execution_count": 43,
   "metadata": {
    "colab": {
     "base_uri": "https://localhost:8080/",
     "height": 444
    },
    "id": "YVGfHUr9EEYx",
    "outputId": "2fb88852-7832-49ed-9d49-b35659fcdc66"
   },
   "outputs": [
    {
     "data": {
      "text/html": [
       "<div>\n",
       "<style scoped>\n",
       "    .dataframe tbody tr th:only-of-type {\n",
       "        vertical-align: middle;\n",
       "    }\n",
       "\n",
       "    .dataframe tbody tr th {\n",
       "        vertical-align: top;\n",
       "    }\n",
       "\n",
       "    .dataframe thead th {\n",
       "        text-align: right;\n",
       "    }\n",
       "</style>\n",
       "<table border=\"1\" class=\"dataframe\">\n",
       "  <thead>\n",
       "    <tr style=\"text-align: right;\">\n",
       "      <th></th>\n",
       "      <th>crop</th>\n",
       "      <th>area1000hectares</th>\n",
       "      <th>production1000tonnes</th>\n",
       "      <th>irrigatedarea1000hectares</th>\n",
       "      <th>districtcode</th>\n",
       "      <th>year</th>\n",
       "      <th>statecode</th>\n",
       "      <th>statename</th>\n",
       "      <th>nitrogenconsumptiontonnes</th>\n",
       "      <th>phosphateconsumptiontonnes</th>\n",
       "      <th>...</th>\n",
       "      <th>irr_nit</th>\n",
       "      <th>irr_phos</th>\n",
       "      <th>irr_pot</th>\n",
       "      <th>region_rbi</th>\n",
       "      <th>Central</th>\n",
       "      <th>East</th>\n",
       "      <th>North</th>\n",
       "      <th>North_East</th>\n",
       "      <th>South</th>\n",
       "      <th>West</th>\n",
       "    </tr>\n",
       "  </thead>\n",
       "  <tbody>\n",
       "    <tr>\n",
       "      <th>0</th>\n",
       "      <td>Rice</td>\n",
       "      <td>841.13000</td>\n",
       "      <td>983.210020</td>\n",
       "      <td>353.733000</td>\n",
       "      <td>1</td>\n",
       "      <td>2017</td>\n",
       "      <td>14</td>\n",
       "      <td>Chhattisgarh</td>\n",
       "      <td>91447</td>\n",
       "      <td>53486</td>\n",
       "      <td>...</td>\n",
       "      <td>3.234782e+07</td>\n",
       "      <td>1.891976e+07</td>\n",
       "      <td>6.010985e+06</td>\n",
       "      <td>Central</td>\n",
       "      <td>True</td>\n",
       "      <td>False</td>\n",
       "      <td>False</td>\n",
       "      <td>False</td>\n",
       "      <td>False</td>\n",
       "      <td>False</td>\n",
       "    </tr>\n",
       "    <tr>\n",
       "      <th>1</th>\n",
       "      <td>Rice</td>\n",
       "      <td>660.35999</td>\n",
       "      <td>801.820010</td>\n",
       "      <td>33.077999</td>\n",
       "      <td>2</td>\n",
       "      <td>2017</td>\n",
       "      <td>14</td>\n",
       "      <td>Chhattisgarh</td>\n",
       "      <td>21279</td>\n",
       "      <td>12584</td>\n",
       "      <td>...</td>\n",
       "      <td>7.038667e+05</td>\n",
       "      <td>4.162535e+05</td>\n",
       "      <td>1.412761e+05</td>\n",
       "      <td>Central</td>\n",
       "      <td>True</td>\n",
       "      <td>False</td>\n",
       "      <td>False</td>\n",
       "      <td>False</td>\n",
       "      <td>False</td>\n",
       "      <td>False</td>\n",
       "    </tr>\n",
       "    <tr>\n",
       "      <th>2</th>\n",
       "      <td>Rice</td>\n",
       "      <td>959.01001</td>\n",
       "      <td>1520.950000</td>\n",
       "      <td>525.374020</td>\n",
       "      <td>3</td>\n",
       "      <td>2017</td>\n",
       "      <td>14</td>\n",
       "      <td>Chhattisgarh</td>\n",
       "      <td>92008</td>\n",
       "      <td>47721</td>\n",
       "      <td>...</td>\n",
       "      <td>4.833861e+07</td>\n",
       "      <td>2.507137e+07</td>\n",
       "      <td>7.908980e+06</td>\n",
       "      <td>Central</td>\n",
       "      <td>True</td>\n",
       "      <td>False</td>\n",
       "      <td>False</td>\n",
       "      <td>False</td>\n",
       "      <td>False</td>\n",
       "      <td>False</td>\n",
       "    </tr>\n",
       "    <tr>\n",
       "      <th>3</th>\n",
       "      <td>Rice</td>\n",
       "      <td>727.94000</td>\n",
       "      <td>1295.710000</td>\n",
       "      <td>400.825010</td>\n",
       "      <td>4</td>\n",
       "      <td>2017</td>\n",
       "      <td>14</td>\n",
       "      <td>Chhattisgarh</td>\n",
       "      <td>72926</td>\n",
       "      <td>29713</td>\n",
       "      <td>...</td>\n",
       "      <td>2.923056e+07</td>\n",
       "      <td>1.190971e+07</td>\n",
       "      <td>2.771705e+06</td>\n",
       "      <td>Central</td>\n",
       "      <td>True</td>\n",
       "      <td>False</td>\n",
       "      <td>False</td>\n",
       "      <td>False</td>\n",
       "      <td>False</td>\n",
       "      <td>False</td>\n",
       "    </tr>\n",
       "    <tr>\n",
       "      <th>4</th>\n",
       "      <td>Rice</td>\n",
       "      <td>411.12000</td>\n",
       "      <td>623.289980</td>\n",
       "      <td>54.150002</td>\n",
       "      <td>5</td>\n",
       "      <td>2017</td>\n",
       "      <td>14</td>\n",
       "      <td>Chhattisgarh</td>\n",
       "      <td>31282</td>\n",
       "      <td>13620</td>\n",
       "      <td>...</td>\n",
       "      <td>1.693920e+06</td>\n",
       "      <td>7.375230e+05</td>\n",
       "      <td>2.007341e+05</td>\n",
       "      <td>Central</td>\n",
       "      <td>True</td>\n",
       "      <td>False</td>\n",
       "      <td>False</td>\n",
       "      <td>False</td>\n",
       "      <td>False</td>\n",
       "      <td>False</td>\n",
       "    </tr>\n",
       "    <tr>\n",
       "      <th>...</th>\n",
       "      <td>...</td>\n",
       "      <td>...</td>\n",
       "      <td>...</td>\n",
       "      <td>...</td>\n",
       "      <td>...</td>\n",
       "      <td>...</td>\n",
       "      <td>...</td>\n",
       "      <td>...</td>\n",
       "      <td>...</td>\n",
       "      <td>...</td>\n",
       "      <td>...</td>\n",
       "      <td>...</td>\n",
       "      <td>...</td>\n",
       "      <td>...</td>\n",
       "      <td>...</td>\n",
       "      <td>...</td>\n",
       "      <td>...</td>\n",
       "      <td>...</td>\n",
       "      <td>...</td>\n",
       "      <td>...</td>\n",
       "      <td>...</td>\n",
       "    </tr>\n",
       "    <tr>\n",
       "      <th>218</th>\n",
       "      <td>Rice</td>\n",
       "      <td>19.59000</td>\n",
       "      <td>27.219999</td>\n",
       "      <td>4.420000</td>\n",
       "      <td>240</td>\n",
       "      <td>2017</td>\n",
       "      <td>16</td>\n",
       "      <td>Uttarakhand</td>\n",
       "      <td>86</td>\n",
       "      <td>45</td>\n",
       "      <td>...</td>\n",
       "      <td>3.801200e+02</td>\n",
       "      <td>1.989000e+02</td>\n",
       "      <td>8.840000e+00</td>\n",
       "      <td>Central</td>\n",
       "      <td>True</td>\n",
       "      <td>False</td>\n",
       "      <td>False</td>\n",
       "      <td>False</td>\n",
       "      <td>False</td>\n",
       "      <td>False</td>\n",
       "    </tr>\n",
       "    <tr>\n",
       "      <th>219</th>\n",
       "      <td>Rice</td>\n",
       "      <td>10.25000</td>\n",
       "      <td>17.570000</td>\n",
       "      <td>5.890000</td>\n",
       "      <td>241</td>\n",
       "      <td>2017</td>\n",
       "      <td>16</td>\n",
       "      <td>Uttarakhand</td>\n",
       "      <td>137</td>\n",
       "      <td>149</td>\n",
       "      <td>...</td>\n",
       "      <td>8.069300e+02</td>\n",
       "      <td>8.776100e+02</td>\n",
       "      <td>1.943700e+02</td>\n",
       "      <td>Central</td>\n",
       "      <td>True</td>\n",
       "      <td>False</td>\n",
       "      <td>False</td>\n",
       "      <td>False</td>\n",
       "      <td>False</td>\n",
       "      <td>False</td>\n",
       "    </tr>\n",
       "    <tr>\n",
       "      <th>220</th>\n",
       "      <td>Rice</td>\n",
       "      <td>10.41000</td>\n",
       "      <td>20.490000</td>\n",
       "      <td>7.710000</td>\n",
       "      <td>242</td>\n",
       "      <td>2017</td>\n",
       "      <td>16</td>\n",
       "      <td>Uttarakhand</td>\n",
       "      <td>75</td>\n",
       "      <td>33</td>\n",
       "      <td>...</td>\n",
       "      <td>5.782500e+02</td>\n",
       "      <td>2.544300e+02</td>\n",
       "      <td>1.542000e+01</td>\n",
       "      <td>Central</td>\n",
       "      <td>True</td>\n",
       "      <td>False</td>\n",
       "      <td>False</td>\n",
       "      <td>False</td>\n",
       "      <td>False</td>\n",
       "      <td>False</td>\n",
       "    </tr>\n",
       "    <tr>\n",
       "      <th>221</th>\n",
       "      <td>Rice</td>\n",
       "      <td>10.02000</td>\n",
       "      <td>13.870000</td>\n",
       "      <td>5.190000</td>\n",
       "      <td>243</td>\n",
       "      <td>2017</td>\n",
       "      <td>16</td>\n",
       "      <td>Uttarakhand</td>\n",
       "      <td>374</td>\n",
       "      <td>103</td>\n",
       "      <td>...</td>\n",
       "      <td>1.941060e+03</td>\n",
       "      <td>5.345700e+02</td>\n",
       "      <td>3.114000e+01</td>\n",
       "      <td>Central</td>\n",
       "      <td>True</td>\n",
       "      <td>False</td>\n",
       "      <td>False</td>\n",
       "      <td>False</td>\n",
       "      <td>False</td>\n",
       "      <td>False</td>\n",
       "    </tr>\n",
       "    <tr>\n",
       "      <th>222</th>\n",
       "      <td>Rice</td>\n",
       "      <td>9.29000</td>\n",
       "      <td>19.559999</td>\n",
       "      <td>9.290000</td>\n",
       "      <td>244</td>\n",
       "      <td>2017</td>\n",
       "      <td>16</td>\n",
       "      <td>Uttarakhand</td>\n",
       "      <td>3319</td>\n",
       "      <td>887</td>\n",
       "      <td>...</td>\n",
       "      <td>3.083351e+04</td>\n",
       "      <td>8.240230e+03</td>\n",
       "      <td>9.197100e+02</td>\n",
       "      <td>Central</td>\n",
       "      <td>True</td>\n",
       "      <td>False</td>\n",
       "      <td>False</td>\n",
       "      <td>False</td>\n",
       "      <td>False</td>\n",
       "      <td>False</td>\n",
       "    </tr>\n",
       "  </tbody>\n",
       "</table>\n",
       "<p>94 rows × 41 columns</p>\n",
       "</div>"
      ],
      "text/plain": [
       "     crop  area1000hectares  production1000tonnes  irrigatedarea1000hectares  \\\n",
       "0    Rice         841.13000            983.210020                 353.733000   \n",
       "1    Rice         660.35999            801.820010                  33.077999   \n",
       "2    Rice         959.01001           1520.950000                 525.374020   \n",
       "3    Rice         727.94000           1295.710000                 400.825010   \n",
       "4    Rice         411.12000            623.289980                  54.150002   \n",
       "..    ...               ...                   ...                        ...   \n",
       "218  Rice          19.59000             27.219999                   4.420000   \n",
       "219  Rice          10.25000             17.570000                   5.890000   \n",
       "220  Rice          10.41000             20.490000                   7.710000   \n",
       "221  Rice          10.02000             13.870000                   5.190000   \n",
       "222  Rice           9.29000             19.559999                   9.290000   \n",
       "\n",
       "     districtcode  year  statecode     statename  nitrogenconsumptiontonnes  \\\n",
       "0               1  2017         14  Chhattisgarh                      91447   \n",
       "1               2  2017         14  Chhattisgarh                      21279   \n",
       "2               3  2017         14  Chhattisgarh                      92008   \n",
       "3               4  2017         14  Chhattisgarh                      72926   \n",
       "4               5  2017         14  Chhattisgarh                      31282   \n",
       "..            ...   ...        ...           ...                        ...   \n",
       "218           240  2017         16   Uttarakhand                         86   \n",
       "219           241  2017         16   Uttarakhand                        137   \n",
       "220           242  2017         16   Uttarakhand                         75   \n",
       "221           243  2017         16   Uttarakhand                        374   \n",
       "222           244  2017         16   Uttarakhand                       3319   \n",
       "\n",
       "     phosphateconsumptiontonnes  ...       irr_nit      irr_phos  \\\n",
       "0                         53486  ...  3.234782e+07  1.891976e+07   \n",
       "1                         12584  ...  7.038667e+05  4.162535e+05   \n",
       "2                         47721  ...  4.833861e+07  2.507137e+07   \n",
       "3                         29713  ...  2.923056e+07  1.190971e+07   \n",
       "4                         13620  ...  1.693920e+06  7.375230e+05   \n",
       "..                          ...  ...           ...           ...   \n",
       "218                          45  ...  3.801200e+02  1.989000e+02   \n",
       "219                         149  ...  8.069300e+02  8.776100e+02   \n",
       "220                          33  ...  5.782500e+02  2.544300e+02   \n",
       "221                         103  ...  1.941060e+03  5.345700e+02   \n",
       "222                         887  ...  3.083351e+04  8.240230e+03   \n",
       "\n",
       "          irr_pot  region_rbi  Central   East  North  North_East  South   West  \n",
       "0    6.010985e+06     Central     True  False  False       False  False  False  \n",
       "1    1.412761e+05     Central     True  False  False       False  False  False  \n",
       "2    7.908980e+06     Central     True  False  False       False  False  False  \n",
       "3    2.771705e+06     Central     True  False  False       False  False  False  \n",
       "4    2.007341e+05     Central     True  False  False       False  False  False  \n",
       "..            ...         ...      ...    ...    ...         ...    ...    ...  \n",
       "218  8.840000e+00     Central     True  False  False       False  False  False  \n",
       "219  1.943700e+02     Central     True  False  False       False  False  False  \n",
       "220  1.542000e+01     Central     True  False  False       False  False  False  \n",
       "221  3.114000e+01     Central     True  False  False       False  False  False  \n",
       "222  9.197100e+02     Central     True  False  False       False  False  False  \n",
       "\n",
       "[94 rows x 41 columns]"
      ]
     },
     "execution_count": 43,
     "metadata": {},
     "output_type": "execute_result"
    }
   ],
   "source": [
    "#Creating region-wise mapping through a dictionary table\n",
    "\n",
    "region_mapping_rbi = {\n",
    "    'Chandigarh': 'North', 'Delhi': 'North', 'Haryana': 'North',\n",
    "    'Himachal Pradesh': 'North', 'Jammu and Kashmir': 'North', 'Punjab': 'North',\n",
    "    'Rajasthan': 'North', 'Uttar Pradesh': 'North',\n",
    "    'Arunachal Pradesh': 'North_East', 'Assam': 'North_East', 'Manipur': 'North_East',\n",
    "    'Meghalaya': 'North_East', 'Mizoram': 'North_East', 'Nagaland': 'North_East',\n",
    "    'Tripura': 'North_East',\n",
    "    'Andaman & Nicobar Islands': 'East', 'Bihar': 'East', 'Jharkhand': 'East',\n",
    "    'Odisha': 'East', 'Sikkim': 'East', 'West Bengal': 'East',\n",
    "    'Chhattisgarh': 'Central', 'Madhya Pradesh': 'Central',\n",
    "    'Uttar Pradesh': 'Central', 'Uttarakhand': 'Central',\n",
    "    'Dadra & Nagar Haveli': 'West', 'Daman & Diu': 'West', 'Goa': 'West',\n",
    "    'Gujarat': 'West', 'Maharashtra': 'West',\n",
    "    'Andhra Pradesh': 'South', 'Karnataka': 'South', 'Kerala': 'South',\n",
    "    'Lakshadweep': 'South', 'Puducherry': 'South', 'Tamil Nadu': 'South', 'Telangana': 'South'\n",
    "}\n",
    "\n",
    "duplicate_cols = ['North','East', 'North_East', 'South', 'West', 'Central']\n",
    "\n",
    "# Remove duplicate columns if they exist\n",
    "for col in duplicate_cols:\n",
    "    if col in rice_data.columns:\n",
    "        rice_data = rice_data.drop(columns=[col])\n",
    "\n",
    "\n",
    "rice_data['region_rbi'] = rice_data['statename'].map(region_mapping_rbi) # Creating the region column\n",
    "region_dummies_rbi = pd.get_dummies(rice_data['region_rbi']) #Dropping Parent in this case\n",
    "rice_data = pd.concat([rice_data, region_dummies_rbi], axis=1) #Adding to the table\n",
    "\n",
    "rice_data[rice_data['region_rbi'] == 'Central']"
   ]
  },
  {
   "cell_type": "markdown",
   "metadata": {
    "id": "H81nECoUGvAZ"
   },
   "source": []
  },
  {
   "cell_type": "code",
   "execution_count": 44,
   "metadata": {
    "colab": {
     "base_uri": "https://localhost:8080/"
    },
    "id": "hJAqxC5XGtjY",
    "outputId": "861cee52-504b-4eeb-c8e3-1e38feb70d54"
   },
   "outputs": [
    {
     "name": "stdout",
     "output_type": "stream",
     "text": [
      "                             OLS Regression Results                             \n",
      "================================================================================\n",
      "Dep. Variable:     production1000tonnes   R-squared:                       0.912\n",
      "Model:                              OLS   Adj. R-squared:                  0.906\n",
      "Method:                   Least Squares   F-statistic:                     152.1\n",
      "Date:                  Wed, 25 Jun 2025   Prob (F-statistic):          1.51e-120\n",
      "Time:                          12:00:46   Log-Likelihood:                -1671.2\n",
      "No. Observations:                   266   AIC:                             3378.\n",
      "Df Residuals:                       248   BIC:                             3443.\n",
      "Df Model:                            17                                         \n",
      "Covariance Type:              nonrobust                                         \n",
      "===============================================================================================\n",
      "                                  coef    std err          t      P>|t|      [0.025      0.975]\n",
      "-----------------------------------------------------------------------------------------------\n",
      "Intercept                      82.4586     31.372      2.628      0.009      20.670     144.247\n",
      "Q(\"North\")[T.True]            -81.5628     33.880     -2.407      0.017    -148.293     -14.833\n",
      "Q(\"East\")[T.True]             -97.9194     42.097     -2.326      0.021    -180.833     -15.006\n",
      "Q(\"West\")[T.True]            -116.0907     33.748     -3.440      0.001    -182.559     -49.622\n",
      "Q(\"Central\")[T.True]         -144.7680     29.342     -4.934      0.000    -202.559     -86.977\n",
      "Q(\"North_East\")[T.True]       -20.1565     57.761     -0.349      0.727    -133.922      93.609\n",
      "irrigatedarea1000hectares       2.9775      0.241     12.330      0.000       2.502       3.453\n",
      "irrigated_sq                    0.0006      0.001      1.104      0.271      -0.000       0.002\n",
      "unirrigatedarea1000hectares     1.9625      0.249      7.887      0.000       1.472       2.453\n",
      "unirrigated_sq                 -0.0016      0.001     -2.887      0.004      -0.003      -0.001\n",
      "nitrogenconsumptiontonnes       0.0003      0.001      0.280      0.780      -0.002       0.002\n",
      "nitrogen_sq                  8.325e-09   3.56e-09      2.335      0.020     1.3e-09    1.53e-08\n",
      "phosphateconsumptiontonnes      0.0021      0.003      0.831      0.407      -0.003       0.007\n",
      "phosphate_sq                -6.841e-08   2.85e-08     -2.398      0.017   -1.25e-07   -1.22e-08\n",
      "potashconsumptiontonnes        -0.0046      0.003     -1.559      0.120      -0.010       0.001\n",
      "potash_sq                     9.83e-08    4.8e-08      2.047      0.042    3.72e-09    1.93e-07\n",
      "rf_seasonal                     0.0936      0.090      1.042      0.299      -0.083       0.271\n",
      "salinity_alkalinity_index      -1.1821      0.455     -2.598      0.010      -2.078      -0.286\n",
      "==============================================================================\n",
      "Omnibus:                       50.845   Durbin-Watson:                   1.321\n",
      "Prob(Omnibus):                  0.000   Jarque-Bera (JB):              582.753\n",
      "Skew:                          -0.238   Prob(JB):                    2.86e-127\n",
      "Kurtosis:                      10.236   Cond. No.                     8.37e+10\n",
      "==============================================================================\n",
      "\n",
      "Notes:\n",
      "[1] Standard Errors assume that the covariance matrix of the errors is correctly specified.\n",
      "[2] The condition number is large, 8.37e+10. This might indicate that there are\n",
      "strong multicollinearity or other numerical problems.\n",
      "\n"
     ]
    }
   ],
   "source": [
    "quad_formula_with_regions_rbi = (\n",
    "    quad_formula +  # Original quadratic formula\n",
    "    ' + Q(\"North\") + Q(\"East\") + Q(\"West\") + Q(\"Central\") + Q(\"North_East\")'  # RBI regional dummies\n",
    ")\n",
    "\n",
    "\n",
    "#Enhanced Model B\n",
    "model_b_with_regions_rbi = smf.ols(formula=quad_formula_with_regions_rbi, data=rice_data).fit()\n",
    "\n",
    "# Print summary\n",
    "print(model_b_with_regions_rbi.summary())\n",
    "print()"
   ]
  },
  {
   "cell_type": "markdown",
   "metadata": {
    "id": "TTIfCbRYLjUH"
   },
   "source": [
    "Now for Model A:"
   ]
  },
  {
   "cell_type": "code",
   "execution_count": 45,
   "metadata": {
    "colab": {
     "base_uri": "https://localhost:8080/"
    },
    "id": "GUtGiaIVLi3c",
    "outputId": "17fc4bb1-18a1-45c4-90e4-7fc295984e9b"
   },
   "outputs": [
    {
     "name": "stdout",
     "output_type": "stream",
     "text": [
      "                               OLS Regression Results                               \n",
      "====================================================================================\n",
      "Dep. Variable:     log_production1000tonnes   R-squared:                       0.854\n",
      "Model:                                  OLS   Adj. R-squared:                  0.847\n",
      "Method:                       Least Squares   F-statistic:                     123.5\n",
      "Date:                      Wed, 25 Jun 2025   Prob (F-statistic):           2.23e-98\n",
      "Time:                              12:00:46   Log-Likelihood:                -346.69\n",
      "No. Observations:                       266   AIC:                             719.4\n",
      "Df Residuals:                           253   BIC:                             766.0\n",
      "Df Model:                                12                                         \n",
      "Covariance Type:                  nonrobust                                         \n",
      "===================================================================================================\n",
      "                                      coef    std err          t      P>|t|      [0.025      0.975]\n",
      "---------------------------------------------------------------------------------------------------\n",
      "Intercept                           0.0842      0.522      0.161      0.872      -0.943       1.112\n",
      "North[T.True]                      -0.1254      0.227     -0.552      0.582      -0.573       0.322\n",
      "East[T.True]                        0.0700      0.278      0.252      0.801      -0.477       0.617\n",
      "West[T.True]                        0.1535      0.225      0.682      0.496      -0.290       0.597\n",
      "Central[T.True]                    -0.4547      0.194     -2.342      0.020      -0.837      -0.072\n",
      "North_East[T.True]                 -0.3430      0.374     -0.917      0.360      -1.080       0.394\n",
      "log_irrigatedarea1000hectares       0.8675      0.033     26.648      0.000       0.803       0.932\n",
      "log_unirrigatedarea1000hectares     0.3929      0.034     11.437      0.000       0.325       0.461\n",
      "log_nitrogenconsumptiontonnes       0.1668      0.161      1.038      0.300      -0.150       0.483\n",
      "log_phosphateconsumptiontonnes     -0.0230      0.147     -0.156      0.876      -0.313       0.267\n",
      "log_potashconsumptiontonnes        -0.0570      0.068     -0.842      0.401      -0.190       0.076\n",
      "rf_seasonal                         0.0021      0.001      3.414      0.001       0.001       0.003\n",
      "salinity_alkalinity_index           0.0001      0.003      0.039      0.969      -0.006       0.006\n",
      "==============================================================================\n",
      "Omnibus:                        8.924   Durbin-Watson:                   1.321\n",
      "Prob(Omnibus):                  0.012   Jarque-Bera (JB):               14.707\n",
      "Skew:                          -0.153   Prob(JB):                     0.000640\n",
      "Kurtosis:                       4.110   Cond. No.                     1.82e+03\n",
      "==============================================================================\n",
      "\n",
      "Notes:\n",
      "[1] Standard Errors assume that the covariance matrix of the errors is correctly specified.\n",
      "[2] The condition number is large, 1.82e+03. This might indicate that there are\n",
      "strong multicollinearity or other numerical problems.\n"
     ]
    }
   ],
   "source": [
    "formula_with_regions_rbi = (\n",
    "    'log_production1000tonnes ~ '\n",
    "    'log_irrigatedarea1000hectares + '\n",
    "    'log_unirrigatedarea1000hectares + '\n",
    "    'log_nitrogenconsumptiontonnes + '\n",
    "    'log_phosphateconsumptiontonnes + '\n",
    "    'log_potashconsumptiontonnes + '\n",
    "    'rf_seasonal + salinity_alkalinity_index + '\n",
    "    'North + East + West + Central + North_East'  # Regional dummies\n",
    ")\n",
    "\n",
    "model_A_with_regions_rbi = smf.ols(formula=formula_with_regions_rbi, data=rice_data).fit()\n",
    "\n",
    "# Print summary\n",
    "print(model_A_with_regions_rbi.summary())"
   ]
  }
 ],
 "metadata": {
  "colab": {
   "collapsed_sections": [
    "mIl75uB4it0r",
    "tHuEFwtai1h7",
    "tN2cyA9cBBIB",
    "6TJCDmzSBSer",
    "DaO1srQLKG_8",
    "NDEDkqcvCPQT",
    "_7cizUFgM64j"
   ],
   "provenance": []
  },
  "kernelspec": {
   "display_name": "Python 3 (ipykernel)",
   "language": "python",
   "name": "python3"
  },
  "language_info": {
   "codemirror_mode": {
    "name": "ipython",
    "version": 3
   },
   "file_extension": ".py",
   "mimetype": "text/x-python",
   "name": "python",
   "nbconvert_exporter": "python",
   "pygments_lexer": "ipython3",
   "version": "3.12.4"
  }
 },
 "nbformat": 4,
 "nbformat_minor": 4
}
